{
 "cells": [
  {
   "cell_type": "markdown",
   "metadata": {},
   "source": [
    "---\n",
    "comments: true\n",
    "layout: posts\n",
    "title: 2015 Practice Exam FRQ 2\n",
    "type: hacks\n",
    "permalink: /2015frq2\n",
    "toc: true\n",
    "---"
   ]
  },
  {
   "cell_type": "markdown",
   "metadata": {},
   "source": [
    "## Question 2\n",
    "Directions: SHOW ALL YOUR WORK. REMEMBER THAT PROGRAM SEGMENTS ARE TO BE WRITTEN IN JAVA.\n",
    "\n",
    "Notes:\n",
    "\n",
    "\n",
    "Assume that the classes listed in the Java Quick Reference have been imported where appropriate.\n",
    "\n",
    "Unless otherwise noted in the question, assume that parameters in method calls are not null and that methods are called only when their preconditions are satisfied.\n",
    "\n",
    "In writing solutions for each question, you may use any of the accessible methods that are listed in classes defined in that question. Writing significant amounts of code that can be replaced by a call to one of these methods will not receive full credit.\n",
    "\n",
    "Consider a guessing game in which a player tries to guess a hidden word. The hidden word contains only capital letters and has a length known to the player. A guess contains only capital letters and has the same length as the hidden word.\n",
    "\n",
    "After a guess is made, the player is given a hint that is based on a comparison between the hidden word and the guess. Each position in the hint contains a character that corresponds to the letter in the same position in the guess. The following rules determine the characters that appear in the hint.\n",
    "\n",
    "\n",
    "![](./images/frq6.jpg)\n",
    "\n",
    "\n",
    "The HiddenWord class will be used to represent the hidden word in the game. The hidden word is passed to the constructor. The class contains a method, getHint, that takes a guess and produces a hint.\n",
    "\n",
    "For example, suppose the variable puzzle is declared as follows.\n",
    "\n",
    "\n",
    "\n",
    "HiddenWord puzzle = new HiddenWord(\"HARPS\");\n",
    "\n",
    "\n",
    "The following table shows several guesses and the hints that would be produced.\n",
    "\n",
    "\n",
    "![](./images/frq7.jpg)\n",
    "\n",
    "Write the complete HiddenWord class, including any necessary instance variables, its constructor, and the method, getHint, described above. You may assume that the length of the guess is the same as the length of the hidden word.\n",
    "\n"
   ]
  },
  {
   "cell_type": "code",
   "execution_count": 4,
   "metadata": {
    "vscode": {
     "languageId": "java"
    }
   },
   "outputs": [
    {
     "name": "stdout",
     "output_type": "stream",
     "text": [
      "Guess: APPLE\n",
      "Hint: +***\n",
      "Guess: JUMP\n",
      "Hint: J***\n",
      "Guess: JAVA\n",
      "Hint: JAVA\n"
     ]
    }
   ],
   "source": [
    "public class HiddenWord {\n",
    "    private String word;\n",
    "\n",
    "    // Constructor to initialize the hidden word\n",
    "    public HiddenWord(String hWord) {\n",
    "        word = hWord;\n",
    "    }\n",
    "\n",
    "    // Method to generate a hint based on the guess\n",
    "    public String getHint(String guess) {\n",
    "        String hint = \"\";\n",
    "\n",
    "        // Ensure the guess length does not exceed the hidden word length\n",
    "        int maxLength = Math.min(guess.length(), word.length());\n",
    "\n",
    "        // Loop through each character in the guess\n",
    "        for (int i = 0; i < maxLength; i++) {\n",
    "            // Check if the character in the guess matches the character in the same position in the hidden word\n",
    "            if (guess.substring(i, i + 1).equals(word.substring(i, i + 1))) {\n",
    "                hint += guess.substring(i, i + 1); // If match, append the character to hint\n",
    "            } else if (word.indexOf(guess.substring(i, i + 1)) != -1) {\n",
    "                hint += \"+\"; // If the character exists in the hidden word but not in the correct position, append '+'\n",
    "            } else {\n",
    "                hint += \"*\"; // If the character doesn't exist in the hidden word, append '*'\n",
    "            }\n",
    "        }\n",
    "\n",
    "        return hint;\n",
    "    }\n",
    "\n",
    "    public static void main(String[] args) {\n",
    "        // Example run\n",
    "        HiddenWord hiddenWord = new HiddenWord(\"JAVA\");\n",
    "        String guess1 = \"APPLE\";\n",
    "        String guess2 = \"JUMP\";\n",
    "        String guess3 = \"JAVA\";\n",
    "        \n",
    "        System.out.println(\"Guess: \" + guess1);\n",
    "        System.out.println(\"Hint: \" + hiddenWord.getHint(guess1));\n",
    "        \n",
    "        System.out.println(\"Guess: \" + guess2);\n",
    "        System.out.println(\"Hint: \" + hiddenWord.getHint(guess2));\n",
    "\n",
    "        System.out.println(\"Guess: \" + guess3);\n",
    "        System.out.println(\"Hint: \" + hiddenWord.getHint(guess3));\n",
    "    }\n",
    "}\n",
    "\n",
    "HiddenWord.main(null);"
   ]
  },
  {
   "cell_type": "markdown",
   "metadata": {},
   "source": [
    "#### Explanation\n",
    "\n",
    "It compares each character of the guess with the corresponding character in the hidden word. If a character in the guess matches the character in the same position in the hidden word, it adds that character to the hint. If a character exists in the hidden word but not in the correct position in the guess, it adds a \"+\" to the hint. Then, if a character doesn't exist in the hidden word, it adds a \"*\" to the hint."
   ]
  },
  {
   "cell_type": "markdown",
   "metadata": {},
   "source": [
    "## Reflection\n",
    "This FRQ is about looking at words and the letters in them, and then seeing how those letters match up with letters in another word. It also checks if you can create and use classes in your code and pass them to functions.I just have to use .substring and if-else statements to figure out if a letter at a certain spot is in the puzzle word."
   ]
  },
  {
   "cell_type": "markdown",
   "metadata": {},
   "source": [
    "## Extra\n",
    "\n",
    "create an ArrayUtill class with the following two static properties. Complete the ArrayUtill class by writing concat() and print(), referring to the execution results of the following code."
   ]
  },
  {
   "cell_type": "code",
   "execution_count": 5,
   "metadata": {
    "vscode": {
     "languageId": "java"
    }
   },
   "outputs": [
    {
     "name": "stdout",
     "output_type": "stream",
     "text": [
      "[ 1 5 7 9 3 6 -1 100 77  ]"
     ]
    }
   ],
   "source": [
    "class ArrayUtill{\n",
    "\tpublic static int[] concat(int[] a, int[] b) {\n",
    "\t\tint size = a.length + b.length;\n",
    "\t\tint concat[] = new int[size];\n",
    "\t\tfor(int i = 0; i < a.length; i++) {\n",
    "\t\t\tconcat[i] = a[i];\n",
    "\t\t}\n",
    "\t\tfor(int i = 0; i < b.length; i++) {\n",
    "\t\t\tconcat[i + a.length] = b[i];\n",
    "\t\t}\n",
    "\t\treturn concat;\n",
    "\t}\n",
    "\tpublic static void print(int[] a) {\n",
    "\t\tSystem.out.print(\"[ \");\n",
    "\t\tfor(int i = 0; i < a.length; i++) {\n",
    "\t\t\tSystem.out.print(a[i] + \" \");\n",
    "\t\t}\n",
    "\t\tSystem.out.print(\" ]\");\n",
    "\t}\n",
    "}\n",
    "public class StaticEx{\n",
    "\tpublic static void main(String[] args) {\n",
    "\t\tint[] array1 = {1, 5, 7, 9};\n",
    "\t\tint[] array2 = {3, 6, -1, 100, 77};\n",
    "\t\tint[] array3 = ArrayUtill.concat(array1, array2);\n",
    "\t\tArrayUtill.print(array3);\n",
    "\t}\n",
    "}\n",
    "StaticEx.main(null);"
   ]
  }
 ],
 "metadata": {
  "kernelspec": {
   "display_name": "Java",
   "language": "java",
   "name": "java"
  },
  "language_info": {
   "codemirror_mode": "java",
   "file_extension": ".jshell",
   "mimetype": "text/x-java-source",
   "name": "Java",
   "pygments_lexer": "java",
   "version": "11.0.21+9-post-Ubuntu-0ubuntu122.04"
  }
 },
 "nbformat": 4,
 "nbformat_minor": 2
}
