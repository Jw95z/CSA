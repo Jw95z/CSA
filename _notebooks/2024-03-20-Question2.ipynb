{
 "cells": [
  {
   "cell_type": "markdown",
   "metadata": {},
   "source": [
    "---\n",
    "comments: true\n",
    "layout: posts\n",
    "title: Question 2\n",
    "type: hacks\n",
    "permalink: q2\n",
    "toc: true\n",
    "courses: {'csa': {'week': 27}}\n",
    "---"
   ]
  },
  {
   "cell_type": "markdown",
   "metadata": {},
   "source": [
    "# Free Response Questions\n",
    "\n",
    "## Question 1 - Pojos and Access Control:\n",
    "Situation: The school librarian wants to create a program that stores all of the books within the library in a database and is used to manage their inventory of books available to the students. You decided to put your amazing code skills to work and help out the librarian!\n",
    "\n",
    "a. Describe the key differences between the private and public access controllers and how it affects a POJO\n",
    "**Public**\n",
    "- can be accessed from any other class in the application. \n",
    "- other classes can directly read and modify public fields, as well as call public methods. \n",
    "- Using public access gives the highest level of accessibility but the lowest level of encapsulation and security for the data\n",
    "\n",
    "**Private**\n",
    "- accessible only within the class where they are declared\n",
    "- restricts direct access from outside the class, enforcing encapsulation\n",
    "- Use of getter and setter methods\n",
    "- higher level of security and making the class more robust against unauthorized modifications.\n",
    "\n",
    "b. Identify a scenario when you would use the private vs. public access controllers that isn't the one given in the scenario above\n",
    "**Private**\n",
    "-  Sensitive information such as the account balance, customer identification numbers, and transaction history should be declared as private\n",
    "\n",
    "**Public**\n",
    "- For attributes or methods that are meant to be shared across the system without restrictions, such as constants defining account types (savings, checking)\n",
    "\n",
    "c. Create a Book class that represents the following attributes about a book: title, author, date published, person holding the book and make sure that the objects are using a POJO, the proper getters and setters and are secure from any other modifications that the program makes later to the objects\n"
   ]
  },
  {
   "cell_type": "code",
   "execution_count": 3,
   "metadata": {
    "vscode": {
     "languageId": "java"
    }
   },
   "outputs": [],
   "source": [
    "public class Book {\n",
    "    private String title;\n",
    "    private String author;\n",
    "    private String datePublished;\n",
    "    private String personHolding;\n",
    "\n",
    "    // Constructor\n",
    "    public Book(String title, String author, String datePublished, String personHolding) {\n",
    "        this.title = title;\n",
    "        this.author = author;\n",
    "        this.datePublished = datePublished;\n",
    "        this.personHolding = personHolding;\n",
    "    }\n",
    "\n",
    "    // Getters\n",
    "    public String getTitle() {\n",
    "        return title;\n",
    "    }\n",
    "\n",
    "    public String getAuthor() {\n",
    "        return author;\n",
    "    }\n",
    "\n",
    "    public String getDatePublished() {\n",
    "        return datePublished;\n",
    "    }\n",
    "\n",
    "    public String getPersonHolding() {\n",
    "        return personHolding;\n",
    "    }\n",
    "\n",
    "    // Setters\n",
    "    public void setTitle(String title) {\n",
    "        this.title = title;\n",
    "    }\n",
    "\n",
    "    public void setAuthor(String author) {\n",
    "        this.author = author;\n",
    "    }\n",
    "\n",
    "    public void setDatePublished(String datePublished) {\n",
    "        this.datePublished = datePublished;\n",
    "    }\n",
    "\n",
    "    public void setPersonHolding(String personHolding) {\n",
    "        this.personHolding = personHolding;\n",
    "    }\n",
    "}\n"
   ]
  },
  {
   "cell_type": "markdown",
   "metadata": {},
   "source": [
    "## Question 2 - Writing Classes:\n",
    "\n",
    "(a) Describe the different features needed to create a class and what their purpose is.\n",
    "- Class name --> It defines what the class is and acts as a blueprint from which objects are created.\n",
    "- Methods: Functions or procedures associated with a class that define the behaviors of the objects.\n",
    "- Constructor: A special method that is called when an object is instantiated from a class. Constructors initialize the object's state by setting field values\n",
    "(b) Code:\n",
    "\n",
    "Create a Java class BankAccount to represent a simple bank account. This class should have the following attributes:\n",
    "- accountHolder (String): The name of the account holder.\n",
    "balance (double): The current balance in the account.\n",
    "Implement the following mutator (setter) methods for the BankAccount class:\n",
    "- setAccountHolder(String name): Sets the name of the account holder.\n",
    "- deposit(double amount): Deposits a given amount into the account.\n",
    "- withdraw(double amount): Withdraws a given amount from the account, but only if the withdrawal amount is less than or equal to the current balance.\n",
    "Ensure that the balance is never negative."
   ]
  },
  {
   "cell_type": "code",
   "execution_count": 2,
   "metadata": {
    "vscode": {
     "languageId": "java"
    }
   },
   "outputs": [],
   "source": [
    "public class BankAccount {\n",
    "    private String accountHolder;\n",
    "    private double balance;\n",
    "\n",
    "    public void setAccountHolder(String name){\n",
    "        this.accountHolder = name;\n",
    "    }\n",
    "\n",
    "    public void deposit(Double amount){\n",
    "        if (amount > 0) {\n",
    "            this.balance += amount;\n",
    "        } else {\n",
    "            System.out.println(\"Deposit amount must be positive.\");\n",
    "        }\n",
    "    }\n",
    "\n",
    "    public void withdraw(double amount) {\n",
    "        if (amount > 0 && amount <= this.balance) {\n",
    "            this.balance -= amount;\n",
    "        } else {\n",
    "            System.out.println(\"Withdrawal amount is invalid or exceeds balance.\");\n",
    "        }\n",
    "    }\n",
    "\n",
    "    public String getAccountHolder() {\n",
    "        return this.accountHolder;\n",
    "    }\n",
    "\n",
    "    public double getBalance() {\n",
    "        return this.balance;\n",
    "    }\n",
    "}"
   ]
  },
  {
   "cell_type": "markdown",
   "metadata": {},
   "source": [
    "## Question 3 - Instantiation of a Class\n",
    "\n",
    "(a) Explain how a constructor works, including when it runs and what generally is done within a constructor.\n",
    " - Constructor: A special method that is called when an object is instantiated from a class. Constructors initialize the object's state by setting field values\n",
    "(b) Create an example of an overloaded constructor within a class. You must use at least three variables. Include the correct initialization of variables and correct headers for the constructor. Then, run the constructor at least twice with different variables and demonstrate that these two objects called different constructors. "
   ]
  },
  {
   "cell_type": "code",
   "execution_count": 1,
   "metadata": {
    "vscode": {
     "languageId": "java"
    }
   },
   "outputs": [
    {
     "name": "stdout",
     "output_type": "stream",
     "text": [
      "Person 1: Alice, 30, alice@example.com\n",
      "Person 2: Bob, 25, \n"
     ]
    }
   ],
   "source": [
    "public class Person {\n",
    "    private String name;\n",
    "    private int age;\n",
    "    private String email;\n",
    "\n",
    "    // Constructor with all three variables\n",
    "    public Person(String name, int age, String email) {\n",
    "        this.name = name;\n",
    "        this.age = age;\n",
    "        this.email = email;\n",
    "    }\n",
    "\n",
    "    // Overloaded constructor with two variables (name and age)\n",
    "    public Person(String name, int age) {\n",
    "        this.name = name;\n",
    "        this.age = age;\n",
    "        this.email = \"\"; // Default value or could be set as null\n",
    "    }\n",
    "\n",
    "    // Overloaded constructor with only name\n",
    "    public Person(String name) {\n",
    "        this.name = name;\n",
    "        this.age = 0; // Default value\n",
    "        this.email = \"\"; // Default value or could be set as null\n",
    "    }\n",
    "\n",
    "    // Getters for the class variables\n",
    "    public String getName() {\n",
    "        return name;\n",
    "    }\n",
    "\n",
    "    public int getAge() {\n",
    "        return age;\n",
    "    }\n",
    "\n",
    "    public String getEmail() {\n",
    "        return email;\n",
    "    }\n",
    "}\n",
    "\n",
    "public class Main {\n",
    "    public static void main(String[] args) {\n",
    "        // Using constructor with all three variables\n",
    "        Person person1 = new Person(\"Alice\", 30, \"alice@example.com\");\n",
    "        \n",
    "        // Using constructor with two variables (name and age)\n",
    "        Person person2 = new Person(\"Bob\", 25);\n",
    "        \n",
    "        // Output to demonstrate that different constructors were called\n",
    "        System.out.println(\"Person 1: \" + person1.getName() + \", \" + person1.getAge() + \", \" + person1.getEmail());\n",
    "        System.out.println(\"Person 2: \" + person2.getName() + \", \" + person2.getAge() + \", \" + person2.getEmail());\n",
    "    }\n",
    "}\n",
    "\n",
    "Main.main(null);"
   ]
  },
  {
   "cell_type": "markdown",
   "metadata": {},
   "source": [
    "## Question 4 - Wrapper Classes:\n",
    "\n",
    "(a) Provide a brief summary of what a wrapper class is and provide a small code block showing a basic example of a wrapper class.\n",
    "\n",
    "(b) Create a Java wrapper class called Temperature to represent temperatures in Celsius. Your Temperature class should have the following features:\n",
    "\n",
    "Fields:\n",
    "\n",
    "A private double field to store the temperature value in Celsius.\n",
    "\n",
    "\n",
    "Constructor:\n",
    "\n",
    "A constructor that takes a double value representing the temperature in Celsius and initializes the field.\n",
    "\n",
    "\n",
    "Methods:\n",
    "\n",
    "getTemperature(): A method that returns the temperature value in Celsius.\n",
    "setTemperature(double value): A method that sets a new temperature value in Celsius.\n",
    "toFahrenheit(): A method that converts the temperature from Celsius to Fahrenheit and returns the result as a double value. "
   ]
  },
  {
   "cell_type": "code",
   "execution_count": null,
   "metadata": {
    "vscode": {
     "languageId": "java"
    }
   },
   "outputs": [],
   "source": []
  },
  {
   "cell_type": "markdown",
   "metadata": {},
   "source": [
    "## Question 5 - Inheritence:\n",
    "\n",
    "Situation: You are developing a program to manage a zoo, where various types of animals are kept in different enclosures. To streamline your code, you decide to use inheritance to model the relationships between different types of animals and their behaviors.\n",
    "\n",
    "(a) Explain the concept of inheritance in Java. Provide an example scenario where inheritance is useful.\n",
    "\n",
    "(b) Code:\n",
    "\n",
    "You need to implement a Java class hierarchy to represent different types of animals in the zoo. Create a superclass Animal with basic attributes and methods common to all animals, and at least three subclasses representing specific types of animals with additional attributes and methods. Include comments to explain your code, specifically how inheritance is used.\n"
   ]
  },
  {
   "cell_type": "code",
   "execution_count": null,
   "metadata": {
    "vscode": {
     "languageId": "java"
    }
   },
   "outputs": [],
   "source": []
  }
 ],
 "metadata": {
  "kernelspec": {
   "display_name": "Java",
   "language": "java",
   "name": "java"
  },
  "language_info": {
   "codemirror_mode": "java",
   "file_extension": ".jshell",
   "mimetype": "text/x-java-source",
   "name": "Java",
   "pygments_lexer": "java",
   "version": "20.0.2+9"
  }
 },
 "nbformat": 4,
 "nbformat_minor": 2
}
