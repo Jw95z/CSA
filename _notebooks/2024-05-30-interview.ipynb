{
 "cells": [
  {
   "cell_type": "markdown",
   "metadata": {},
   "source": [
    "---\n",
    "title: Job Interview\n",
    "type: hacks\n",
    "week: 35\n",
    "layout: posts \n",
    "toc: true\n",
    "comments: True\n",
    "---"
   ]
  },
  {
   "cell_type": "markdown",
   "metadata": {},
   "source": [
    "## Overview\n",
    "\n",
    "My passion for coding and education drives my interest in this role. I am particularly excited about the opportunity to work with cool guys and learn about new knowledge about coding, developing content and systems that enhance the Computer Science Pathway in the Poway Unified School District.\n",
    "\n",
    "## Overview of Relevant Projects\n",
    "\n",
    "### Stock trading simulator\n",
    "User\n",
    "can you increase this?\n",
    "\n",
    "Users have a system to virtually buy and sell stocks. When a user sells or buys stocks he or she wants to buy, information about the stocks appears in the purchase history. Moreover, this purchase record is also related to Class. If a user joins a class and wants to buy stocks, he or she must tell which class he or she is in. When a user purchases stocks, the record is saved in the backend and displayed in purchase history. Additionally, the dashboard informs users what stocks they own and how much they have.\n",
    "ChatGPT\n",
    "Sure, I can enhance the provided description with more detail and clarity:\n",
    "\n",
    "Users have access to a system that allows them to virtually buy and sell stocks. When a user initiates a transaction to buy or sell stocks, detailed information about the transaction is recorded and displayed in their purchase history. This purchase history is essential for tracking and managing their stock portfolio.\n",
    "\n",
    "Furthermore, the stock trading system is integrated with a Class feature. Users are required to specify their class affiliation when they join the system. This class information becomes relevant when users participate in stock trading activities. If a user wants to purchase stocks, they must indicate which class they belong to. This ensures that their transactions are appropriately categorized and associated with their class.\n",
    "\n",
    "When a user successfully purchases stocks, the transaction details are securely saved in the backend database. These details include the stock's name, quantity, purchase price, and the date and time of the transaction. This information is then displayed in the user's purchase history, providing a comprehensive record of all their stock transactions.\n",
    "\n",
    "Additionally, the system features a user-friendly dashboard that offers real-time updates on the user's stock portfolio. The dashboard provides a summary of the stocks they currently own, including the number of shares and their current market value. This allows users to quickly assess the performance of their investments and make informed decisions about buying or selling stocks.\n",
    "\n",
    "![image](https://github.com/Jw95z/JeongWooLee/assets/111465147/43b75d1f-3a63-4b18-a1aa-8da06d7ff8da)\n",
    "![image](https://github.com/Jw95z/JeongWooLee/assets/111465147/83b6779c-8db0-4965-81e6-0a757bae7d68)\n",
    "![image](https://github.com/Jw95z/JeongWooLee/assets/111465147/85d1cb6d-acdc-4116-a16c-64e481fa4919)\n",
    "\n",
    "### Full Stack Coding\n",
    "I created a user-friendly frontend for a web application that includes a dashboard, purchase history, and user performance. I also connected this frontend to the backend, making sure everything works smoothly together. Therfore, the input put from frontend can be stored at backend, and recall it from backend so that user can see about their information in the frontend. Users can view their profiles and other information on the site. On the left side of the website, I added a table that lists all the features available to our group, making it easy to find and use everything.\n",
    "\n",
    "### ML \n",
    "I also little contributed on Machine learning with Alex and Ethan Zhao. I created a python code to store the stock data on csv file. In python code, I implements the python module called yfinance in order to store the stock data from the past. By creating a python API for the stock data, it much less the storage in CSA_AI_Backend, also using API to fetch the stock data from python API.\n",
    "\n",
    "### Open Source\n",
    "For the open source, this time, I used tailwind css to design my website. Tailwind CSS is a CSS framework packed with classes like flex , pt-4 , text-center and rotate-90 that can be composed to build any design, directly in the html code. I usually watched video or other people's demo in order to know how the code works.\n",
    "\n",
    "![image](https://github.com/Jw95z/JeongWooLee/assets/111465147/c352d8ac-9490-4a98-85ba-1f1a306dcc6d)\n",
    "\n",
    "## N@M\n",
    "I most remembered the guest, which is Anthony's dad, UCSD professor, talking to us about the AI. He talked about how AI were built and also said he really like about predicting future stock value. \n",
    "\n",
    "## Teamwork and Collaboration\n",
    "\n",
    "Through this project, I discussed a lot about the front end with David and collaborated a lot with my team members to complete the project. I have extensive experience working in teams using Agile methodology and collaboration tools like Git and slack. I value clear communication and teamwork to achieve common goals. "
   ]
  },
  {
   "cell_type": "code",
   "execution_count": null,
   "metadata": {},
   "outputs": [],
   "source": []
  }
 ],
 "metadata": {
  "language_info": {
   "name": "python"
  }
 },
 "nbformat": 4,
 "nbformat_minor": 2
}
