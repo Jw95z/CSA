{
 "cells": [
  {
   "cell_type": "markdown",
   "metadata": {},
   "source": [
    "---\n",
    "comments: true\n",
    "layout: posts\n",
    "title: 2015 Practice Exam FRQ 1\n",
    "type: hacks\n",
    "permalink: /2015frq1\n",
    "toc: true\n",
    "courses: {'csa': {'week': 21}}\n",
    "---\n",
    "\n",
    "## Question 1\n",
    "Directions: SHOW ALL YOUR WORK. REMEMBER THAT PROGRAM SEGMENTS ARE TO BE WRITTEN IN JAVA.\n",
    "\n",
    "Notes:\n",
    " \n",
    "\n",
    "- Assume that the classes listed in the Java Quick Reference have been imported where appropriate.\n",
    "\n",
    "- Unless otherwise noted in the question, assume that parameters in method calls are not null and that methods are called only when their preconditions are satisfied.\n",
    "\n",
    "- In writing solutions for each question, you may use any of the accessible methods that are listed in classes defined in that question. Writing significant amounts of code that can be replaced by a call to one of these methods will not receive full credit.\n",
    "\n",
    "This question involves reasoning about one-dimensional and two-dimensional arrays of integers. You will write three static methods, all of which are in a single enclosing class, named DiverseArray (not shown). The first method returns the sum of the values of a one-dimensional array; the second method returns an array that represents the sums of the rows of a two-dimensional array; and the third method analyzes row sums.       \n",
    "\n",
    "\n",
    "(a) Write a static method arraySum that calculates and returns the sum of the entries in a specified one-dimensional array. The following example shows an array arr1 and the value returned by a call to arraySum.\n",
    "\n",
    "![](./images/frq1.jpg)\n",
    "\n",
    "Complete method arraySum below.\n",
    "\n",
    "/ * * Returns the sum of the entries in the one-dimensional array arr.\n",
    "\n",
    "* /\n",
    "\n",
    "\n"
   ]
  },
  {
   "cell_type": "code",
   "execution_count": null,
   "metadata": {
    "vscode": {
     "languageId": "java"
    }
   },
   "outputs": [
    {
     "name": "stdout",
     "output_type": "stream",
     "text": [
      "Sum: 16\n"
     ]
    }
   ],
   "source": [
    "public class Sum {\n",
    "    public static int arraySum (int [ ] arr) {\n",
    "        int sum = 0;\n",
    "        for (int i = 0; i < arr.length; i++) {\n",
    "            sum += arr[i];\n",
    "        }\n",
    "        return sum;\n",
    "    }\n",
    "    public static void main(String[] args) {\n",
    "        int[] arr = {1, 3, 2, 7, 3};\n",
    "        int sum = Sum.arraySum(arr);\n",
    "        System.out.println(\"Sum: \" + sum);\n",
    "    }\n",
    "}\n",
    "Sum.main(null);"
   ]
  },
  {
   "cell_type": "markdown",
   "metadata": {},
   "source": [
    "(b) Write a static method rowSums that calculates the sums of each of the rows in a given two-dimensional array and returns these sums in a one-dimensional array. The method has one parameter, a two-dimensional array arr2D of int values. The array is in row-major order: arr2D [ r ] [ c ] is the entry at row r and column c. The method returns a one-dimensional array with one entry for each row of arr2D such that each entry is the sum of the corresponding row in arr2D. As a reminder, each row of a two-dimensional array is a one-dimensional array.\n",
    "\n",
    "For example, if mat1 is the array represented by the following table, the call rowSums(mat1) returns the array {16, 32, 28, 20}.\n",
    "\n",
    "![](./images/frq2.png)\n",
    "![](./images/frq3.png)\n",
    "\n",
    "\n",
    "Assume that arraySum works as specified, regardless of what you wrote in part (a). You must use arraySum appropriately to receive full credit.\n",
    "\n",
    "Complete method rowSums below.\n",
    "\n",
    "/ * * Returns a one-dimensional array in which the entry at index k is the sum of\n",
    "\n",
    "* the entries of row k of the two-dimensional array arr2D.\n",
    "\n",
    "* /\n",
    "\n"
   ]
  },
  {
   "cell_type": "code",
   "execution_count": 7,
   "metadata": {
    "vscode": {
     "languageId": "java"
    }
   },
   "outputs": [
    {
     "name": "stdout",
     "output_type": "stream",
     "text": [
      "Sum: "
     ]
    },
    {
     "name": "stdout",
     "output_type": "stream",
     "text": [
      "16 32 28 20 "
     ]
    }
   ],
   "source": [
    "public class SumOf2Darray {\n",
    "    public static int arraySum (int [ ] arr) {\n",
    "        int sum = 0;\n",
    "        for (int i = 0; i < arr.length; i++) {\n",
    "            sum += arr[i];\n",
    "        }\n",
    "        return sum;\n",
    "    }\n",
    "    public static int [ ] rowSums(int [ ] [ ] arr2D) {\n",
    "        int[] sums = new int[arr2D.length];\n",
    "        int sum = 0;\n",
    "        for (int i=0; i < arr2D.length; i++) {\n",
    "            sum = arraySum(arr2D[i]);\n",
    "            sums[i] = sum;\n",
    "            sum = 0;\n",
    "        }\n",
    "        return sums;\n",
    "    }\n",
    "    public static void main(String[] args) {\n",
    "        int[][] mat1 = {\n",
    "            {1, 3, 2, 7, 3}, \n",
    "            {10,10,4,6,2}, \n",
    "            {5,3,5,9,6}, \n",
    "            {7,6,4,2,1}\n",
    "        };\n",
    "        int[] sums = SumOf2Darray.rowSums(mat1);\n",
    "        System.out.print(\"Sum: \");\n",
    "        for (int i = 0; i < sums.length; i++) {\n",
    "            System.out.print(sums[i] + \" \");\n",
    "        }\n",
    "    }\n",
    "}\n",
    "SumOf2Darray.main(null);"
   ]
  },
  {
   "cell_type": "markdown",
   "metadata": {},
   "source": [
    "(c) A two-dimensional array is diverse if no two of its rows have entries that sum to the same value. In the following examples, the array mat1 is diverse because each row sum is different, but the array mat2 is not diverse because the first and last rows have the same sum.\n",
    "\n",
    "![](./images/frq4.jpg)\n",
    "![](./images/frq5.jpg)\n",
    "\n",
    "Write a static method isDiverse that determines whether or not a given two-dimensional array is diverse. The method has one parameter: a two-dimensional array arr2D of int values. The method should return true if all the row sums in the given array are unique; otherwise, it should return false. In the arrays shown above, the call isDiverse (mat1) returns true and the call isDiverse(mat2) returns false.\n",
    "\n",
    "\n",
    "![](./images/frq3.png)\n",
    "\n",
    "\n",
    "Assume that arraySum and rowSums work as specified, regardless of what you wrote in parts (a) and(b). You must use rowSums appropriately to receive full credit.\n",
    "Complete method isDiverse below.\n",
    "\n",
    "/ * * Returns true if all rows in arr2D have different row sums;\n",
    "* false otherwise.\n",
    "\n"
   ]
  },
  {
   "cell_type": "code",
   "execution_count": 10,
   "metadata": {
    "vscode": {
     "languageId": "java"
    }
   },
   "outputs": [
    {
     "name": "stdout",
     "output_type": "stream",
     "text": [
      "true\n",
      "false\n"
     ]
    }
   ],
   "source": [
    "public class check {\n",
    "    public static int arraySum (int [ ] arr) {\n",
    "        int sum = 0;\n",
    "        for (int i = 0; i < arr.length; i++) {\n",
    "            sum += arr[i];\n",
    "        }\n",
    "        return sum;\n",
    "    }\n",
    "    public static int [ ] rowSums(int [ ] [ ] arr2D) {\n",
    "        int[] sums = new int[arr2D.length];\n",
    "        int sum = 0;\n",
    "        for (int i=0; i < arr2D.length; i++) {\n",
    "            sum = arraySum(arr2D[i]);\n",
    "            sums[i] = sum;\n",
    "            sum = 0;\n",
    "        }\n",
    "        return sums;\n",
    "    }\n",
    "    public static boolean isDiverse(int [ ] [ ] arr2D) {\n",
    "        int[] sums = rowSums(arr2D); // get the row sums\n",
    "        \n",
    "        for (int i = 0; i < sums.length; i++) {\n",
    "            for (int j = i + 1; j < sums.length; j++) { \n",
    "                if (sums[i] == sums[j]) { \n",
    "                    return false;\n",
    "                }\n",
    "            }\n",
    "        }\n",
    "        \n",
    "        return true; \n",
    "    }\n",
    "    public static void main(String[] args) {\n",
    "        int[][] arr2D = {\n",
    "            {1, 2, 3}, \n",
    "            {4, 5, 6}, \n",
    "            {7, 8, 9}\n",
    "        };\n",
    "        System.out.println(isDiverse(arr2D)); \n",
    "        \n",
    "        int[][] arr2D2 = {\n",
    "            {1, 2, 3}, \n",
    "            {3, 2, 1}, \n",
    "            {7, 8, 9}\n",
    "        };\n",
    "        System.out.println(isDiverse(arr2D2)); \n",
    "    }\n",
    "}\n",
    "check.main(null);"
   ]
  },
  {
   "cell_type": "markdown",
   "metadata": {},
   "source": [
    "## Reflection \n",
    "This FRQ wasn't too tough because I've dealt with similar questions before. Part A was easy; I just did that same code last week. For parts B and C, I knew I'd need two loops, one inside the other, to check everything. But using nested loops isn't great for big problems because it can get slow (it's O(n^2) complexity). Still, I reckon the college board will give me full marks because there's not really a better way to do it."
   ]
  }
 ],
 "metadata": {
  "kernelspec": {
   "display_name": "Java",
   "language": "java",
   "name": "java"
  },
  "language_info": {
   "codemirror_mode": "java",
   "file_extension": ".jshell",
   "mimetype": "text/x-java-source",
   "name": "Java",
   "pygments_lexer": "java",
   "version": "11.0.21+9-post-Ubuntu-0ubuntu122.04"
  }
 },
 "nbformat": 4,
 "nbformat_minor": 2
}
