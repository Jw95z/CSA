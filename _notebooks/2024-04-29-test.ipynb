{
 "cells": [
  {
   "cell_type": "code",
   "execution_count": 9,
   "metadata": {
    "vscode": {
     "languageId": "java"
    }
   },
   "outputs": [
    {
     "name": "stdout",
     "output_type": "stream",
     "text": [
      "3\n",
      "The extracted substring  is : "
     ]
    },
    {
     "name": "stdout",
     "output_type": "stream",
     "text": [
      "c\n",
      "at\n"
     ]
    }
   ],
   "source": [
    "public class Substr2 {\n",
    "    // main function\n",
    "    public static void main(String args[])\n",
    "    {\n",
    "        // Initializing String\n",
    "        String Str = new String(\"cat\");\n",
    " \n",
    "        // using substring() to extract substring\n",
    "        // returns geeks\n",
    "        System.out.println(Str.length());\n",
    "        System.out.print(\"The extracted substring  is : \");\n",
    "        System.out.println(Str.substring(0, Str.length()/2));\n",
    "        System.out.println(Str.substring(Str.length()/2, Str.length()));\n",
    "    }\n",
    "}\n",
    "Substr2.main(null);"
   ]
  }
 ],
 "metadata": {
  "kernelspec": {
   "display_name": "Java",
   "language": "java",
   "name": "java"
  },
  "language_info": {
   "codemirror_mode": "java",
   "file_extension": ".jshell",
   "mimetype": "text/x-java-source",
   "name": "Java",
   "pygments_lexer": "java",
   "version": "11.0.22+7-post-Ubuntu-0ubuntu222.04.1"
  }
 },
 "nbformat": 4,
 "nbformat_minor": 2
}
