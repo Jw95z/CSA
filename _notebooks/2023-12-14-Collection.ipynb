{
 "cells": [
  {
   "cell_type": "markdown",
   "metadata": {},
   "source": [
    "---\n",
    "toc: true\n",
    "comments: true\n",
    "layout: post\n",
    "title: HashMaps, HashSets, Collections, SQL Student Lessons\n",
    "---"
   ]
  },
  {
   "cell_type": "markdown",
   "metadata": {},
   "source": [
    "## Collections\n",
    "\n",
    "### What are collections?\n",
    "Collections are any group of individual objects that are represented as a single unit is known as a Java Collection of Objects. In Java, a separate framework named the “Collection Framework” has been defined in JDK 1.2 which holds all the Java Collection Classes and Interface in it. It works as an interface that defines the highest-level of shared collection behavior, and extends Iterable which allows usage of ForEach loop."
   ]
  },
  {
   "cell_type": "markdown",
   "metadata": {},
   "source": [
    "### Type of Collection\n",
    "![](https://www.fresh2refresh.com/wp-content/uploads/2013/08/Java-Framework.png)"
   ]
  },
  {
   "cell_type": "markdown",
   "metadata": {},
   "source": [
    "|Interface|Description|Example|\n",
    "| -------- | ------- | ------- |\n",
    "|List<E>|Ordered Collection(duplicate elements OK)| LinkedList, Stack, Queue, Vector, ArrayList |\n",
    "|Set<E>|Unordered collection(No duplicates) | HashSet, TreeSet |\n",
    "|Map<K, V>|<Key,Value> Collection (no Key duplicates) | HashMap, Hashtable, TreeMap |"
   ]
  },
  {
   "cell_type": "markdown",
   "metadata": {},
   "source": [
    "### 😊List\n",
    "#### 1. ArrayList\n",
    "- List created using array\n",
    "- can search quickly \n",
    "- On the other hand, it is somewhat slower than LinkedList because the positions of remaining nodes must be adjusted during insertion and deletion."
   ]
  },
  {
   "cell_type": "code",
   "execution_count": 1,
   "metadata": {},
   "outputs": [
    {
     "name": "stdout",
     "output_type": "stream",
     "text": [
      "black\n",
      "white\n",
      "pink\n"
     ]
    }
   ],
   "source": [
    "public class ArrayListTest {\n",
    "    public static void main(String[] args){\n",
    "        ArrayList<String> colors = new ArrayList<>(Arrays.asList(\"black\",\"white\"));\n",
    "\n",
    "        //add\n",
    "        colors.add(\"pink\");\n",
    "\n",
    "        //for-loop print\n",
    "        for(String color: colors){\n",
    "            System.out.println(color); //[black white pink]\n",
    "        }\n",
    "    }\n",
    "}\n",
    "ArrayListTest.main(null);"
   ]
  },
  {
   "cell_type": "markdown",
   "metadata": {},
   "source": [
    "#### 2. LinkedList\n",
    "- List created using linked list\n",
    "- the search speed is slow because it traverses from the first node.\n",
    "- On the other hand, it is more efficient than ArrayList because only the pointing address value needs to be changed when inserting and deleting."
   ]
  },
  {
   "cell_type": "code",
   "execution_count": 2,
   "metadata": {},
   "outputs": [
    {
     "name": "stdout",
     "output_type": "stream",
     "text": [
      "black\n",
      "white\n",
      "pink\n"
     ]
    }
   ],
   "source": [
    "public class LinkedListTest {\n",
    "    public static void main(String[] args){\n",
    "        LinkedList<String> colors = new LinkedList<>(Arrays.asList(\"black\",\"white\"));\n",
    "\n",
    "        //add\n",
    "        colors.add(\"pink\");\n",
    "\n",
    "        //for-loop print\n",
    "        for(String color: colors) {\n",
    "            System.out.println(color); //[black white pink]\n",
    "        }\n",
    "    }\n",
    "}\n",
    "LinkedListTest.main(null);"
   ]
  },
  {
   "cell_type": "markdown",
   "metadata": {},
   "source": [
    "### Set\n",
    "#### 1. HashSet\n",
    "- data structure that stores only unique values and does not allow duplicates\n",
    "- You can also think of it as a set of keys with no values.  "
   ]
  },
  {
   "cell_type": "code",
   "execution_count": 4,
   "metadata": {},
   "outputs": [
    {
     "name": "stdout",
     "output_type": "stream",
     "text": [
      "banana\n",
      "apple\n",
      "grape\n"
     ]
    }
   ],
   "source": [
    "public class HashSetTest {\n",
    "    public static void main(String[] args){\n",
    "        Set<String> fruits = new HashSet<>(Arrays.asList(\"apple\",\"banana\"));\n",
    "\n",
    "        //add - add new fruit \n",
    "        fruits.add(\"grape\");\n",
    "\n",
    "        //add - not store because apple already exists\n",
    "        fruits.add(\"apple\");\n",
    "\n",
    "        //for-loop print\n",
    "        for(String fruit : fruits){\n",
    "            System.out.println(fruit); // [banana apple grape]\n",
    "        }\n",
    "    }\n",
    "}\n",
    "HashSetTest.main(null);"
   ]
  },
  {
   "cell_type": "markdown",
   "metadata": {},
   "source": [
    "#### 2. TreeSet\n",
    "- no duplicates, no orders\n",
    "- always sorted"
   ]
  },
  {
   "cell_type": "code",
   "execution_count": 5,
   "metadata": {},
   "outputs": [
    {
     "name": "stdout",
     "output_type": "stream",
     "text": [
      "baseball\n",
      "golf\n",
      "soccer\n"
     ]
    }
   ],
   "source": [
    "public class TreeSetTest {\n",
    "    public static void main(String[] args){\n",
    "\n",
    "        Set<String> sports = new TreeSet<>(Arrays.asList(\"baseball\",\"soccer\"));\n",
    "\n",
    "        //add - new sport added\n",
    "        sports.add(\"golf\");\n",
    "\n",
    "        //add - Duplicated sport cannot be stored\n",
    "        sports.add(\"baseball\");\n",
    "\n",
    "        //for-loop print\n",
    "        for(String sport : sports){\n",
    "            System.out.println(sport); //[baseball golf soccer] <- sort automatically\n",
    "        }\n",
    "    }\n",
    "}\n",
    "TreeSetTest.main(null);"
   ]
  },
  {
   "cell_type": "markdown",
   "metadata": {},
   "source": [
    "### Map\n",
    "#### 1. HashMap\n",
    "- **data structure** with keys and values\n",
    "- key cannot be duplicated, but value can\n",
    "- **keySet()** -- provides access to the set of keys. Useful for if you only need to access keys w/out values \n",
    "- **values()** -- returns set of values, without any keys \n",
    "- **entryset()** -- returns keys and values in the form of objects. Useful for when working with key-value pair relationships"
   ]
  },
  {
   "cell_type": "code",
   "execution_count": 11,
   "metadata": {},
   "outputs": [
    {
     "name": "stdout",
     "output_type": "stream",
     "text": [
      "key\n",
      "fruit\n",
      "water\n",
      "value\n",
      "5\n",
      "2\n",
      "entry\n",
      "[fruit=5, water=2]\n"
     ]
    }
   ],
   "source": [
    "public class HashMapTest {\n",
    "    public static void main(String[] args){\n",
    "        Map<String,Integer> store = new HashMap<>();\n",
    "\n",
    "        //add\n",
    "        store.put(\"water\",1);\n",
    "        store.put(\"fruit\",5);\n",
    "\n",
    "        //add - Since water is already existed, new value is updated\n",
    "        store.put(\"water\",2);\n",
    "\n",
    "        //print using keySet()\n",
    "        System.out.println(\"key\");\n",
    "        for(String key : store.keySet()){\n",
    "            System.out.println(key);  //[fruit:5 water:2]\n",
    "        }\n",
    "        System.out.println(\"value\");\n",
    "        for(Integer value : store.values()){\n",
    "            System.out.println(value);  //[fruit:5 water:2]\n",
    "        }\n",
    "        System.out.println(\"entry\");\n",
    "        Set<Map.Entry<String, Integer>>  entry = store.entrySet();\n",
    "        System.out.println(entry); //[fruit:5 water:2]\n",
    "        \n",
    "    }\n",
    "}\n",
    "HashMapTest.main(null);"
   ]
  },
  {
   "cell_type": "markdown",
   "metadata": {},
   "source": [
    "## SQL\n",
    "The `@Id` tag specifies to that this value will be used as the unique identifier for each object in the database, and `@GeneratedValue(strategy = GenerationType.AUTO)` allows these ID's to be automatically generated when a new Person is created. In order for data to be most easily differentiated and manipulated in a database, IDs are deeply important to use.     \n",
    "\n",
    "A \"Many-to-Many\" relationship (shown in the @ManyToMany tag) indicates that entities on both sides of a relationship can have multiple connections with each other.\n",
    "\n",
    "This condition allows for one object to be related to multiple different objects, and those different objects on the other side of the relationship can have their own relationship to other objects.\n"
   ]
  },
  {
   "cell_type": "markdown",
   "metadata": {},
   "source": [
    "### N:M relationship is 1:N, N:1\n",
    "- The N:M relationship of the table is 1:N, N:1 using an intermediate table.\n",
    "- In practice, the middle table is not simple.\n",
    "- @ManyToMany is constraint: add field\n",
    "- In practice, use @ManyToMany"
   ]
  },
  {
   "cell_type": "code",
   "execution_count": null,
   "metadata": {},
   "outputs": [],
   "source": [
    "@Entity\n",
    "public class Category {\n",
    "\n",
    "    @Id\n",
    "    @GeneratedValue\n",
    "    private Long id;\n",
    "\n",
    "    private String name;\n",
    "\n",
    "    @ManyToOne\n",
    "    @JoinColumn(name = \"PARENT_ID\")\n",
    "    private Category parent;\n",
    "\n",
    "    @OneToMany(mappedBy = \"parent\")\n",
    "    private List<Category> child = new ArrayList<>(); // Member variable to contain child categories when bidirectional\n",
    "\n",
    "}"
   ]
  },
  {
   "cell_type": "markdown",
   "metadata": {},
   "source": [
    "### @JoinColumn\n",
    "\n",
    "| Property | Description | normal value |\n",
    "| --- | --- | --- |\n",
    "| name | name of key you match | name + _ + name of key column |\n",
    "| referencedColumnName | name of table column | Primary key column name of the referenced table |\n",
    "| foreignKey(DDL) | You can specify foreign key constraints directly. <br> This property is only used when creating a table. |  |\n",
    "| unique <br> nullable insertable <br> updatable <br> ColumnDefinition <br> table | same property with @Column | |\n"
   ]
  },
  {
   "cell_type": "markdown",
   "metadata": {},
   "source": [
    "### @ManyToOne - main property\n",
    "| Property | Description | normal value |\n",
    "| --- | --- | --- |\n",
    "| optional | If set to false, there should always be an associated entity | True |\n",
    "| fetch | Set a global fetch strategy | - @ManyToOne = FetchType.EAGER <br> - @OneToMany = FetchType.LAZY |\n",
    "| cascade | You can specify foreign key constraints directly. <br> This property is only used when creating a table. |  |\n",
    "| targetEntity | Sets the type information of the related entity. Even if you use a collection, you can get type information through generics. | |"
   ]
  },
  {
   "cell_type": "markdown",
   "metadata": {},
   "source": [
    "### @OneToMany - main property\n",
    "| Property | Description | normal value |\n",
    "| --- | --- | --- |\n",
    "| mappedBy | Set the owner field of the association | |\n",
    "| fetch | Set a global fetch strategy | - @ManyToOne = FetchType.EAGER <br> - @OneToMany = FetchType.LAZY |\n",
    "| cascade | You can specify foreign key constraints directly. <br> This property is only used when creating a table. |  |\n",
    "| targetEntity | Sets the type information of the related entity. Even if you use a collection, you can get type information through generics. | |"
   ]
  },
  {
   "cell_type": "markdown",
   "metadata": {},
   "source": [
    "## Popcorn hack\n",
    "- Create the java code that makes database using ManyToOne and OneToMany"
   ]
  }
 ],
 "metadata": {
  "kernelspec": {
   "display_name": "Java",
   "language": "java",
   "name": "java"
  },
  "language_info": {
   "codemirror_mode": "java",
   "file_extension": ".jshell",
   "mimetype": "text/x-java-source",
   "name": "java",
   "pygments_lexer": "java",
   "version": "20.0.2+9"
  }
 },
 "nbformat": 4,
 "nbformat_minor": 2
}
