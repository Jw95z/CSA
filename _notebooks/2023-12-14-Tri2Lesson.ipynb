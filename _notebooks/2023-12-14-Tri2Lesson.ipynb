{
 "cells": [
  {
   "cell_type": "markdown",
   "metadata": {},
   "source": [
    "---\n",
    "title: James' Reflection\n",
    "author: Justin (if James doesn't delete this he is fool lol)\n",
    "---"
   ]
  },
  {
   "cell_type": "markdown",
   "metadata": {},
   "source": [
    "### Sort in Collection\n",
    "\n",
    "1. java.util.Collections.sort() method is present in java.util.Collections class. It is used to sort the elements present in the specified list of Collection in ascending order.\n",
    "2. The key part of the code is the invocation of Collections.sort(al), which automatically sorts the elements in the ArrayList in alphabetical order."
   ]
  },
  {
   "cell_type": "code",
   "execution_count": 2,
   "metadata": {},
   "outputs": [
    {
     "name": "stdout",
     "output_type": "stream",
     "text": [
      "List after the use of Collection.sort() :\n",
      "[Aaron, James, Shaurya, Shivansh, Tong]\n"
     ]
    }
   ],
   "source": [
    "import java.util.*; \n",
    " \n",
    "public class Collectionsorting1\n",
    "{ \n",
    "    public static void main(String[] args) \n",
    "    { \n",
    "        // Create a list of strings \n",
    "        ArrayList<String> al = new ArrayList<String>(); \n",
    "        al.add(\"Aaron\"); \n",
    "        al.add(\"Tong\"); \n",
    "        al.add(\"James\"); \n",
    "        al.add(\"Shaurya\"); \n",
    "        al.add(\"Shivansh\"); \n",
    " \n",
    "        /* Collections.sort method is sorting the \n",
    "        elements of ArrayList in ascending order. */\n",
    "        Collections.sort(al); \n",
    " \n",
    "        // Let us print the sorted list \n",
    "        System.out.println(\"List after the use of\" + \n",
    "                        \" Collection.sort() :\\n\" + al); \n",
    "    } \n",
    "} \n",
    "Collectionsorting1.main(null);"
   ]
  },
  {
   "cell_type": "markdown",
   "metadata": {},
   "source": [
    "#### Sorting an ArrayList in descending order \n",
    "\n",
    "This Java program builds upon the previous example and introduces the concept of sorting in descending order using the `Collections.reverseOrder()`\n",
    "The key difference lies in the sorting mechanism. Instead of relying on the default ascending order, the code employs Collections.sort(al, Collections.reverseOrder()). This instructs the Collections.sort() method to sort the elements in descending order, providing a reversed arrangement of the strings."
   ]
  },
  {
   "cell_type": "code",
   "execution_count": 1,
   "metadata": {},
   "outputs": [
    {
     "name": "stdout",
     "output_type": "stream",
     "text": [
      "List after the use of Collection.sort() :\n",
      "[Tong, Shivansh, Shaurya, James, Aaron]\n"
     ]
    }
   ],
   "source": [
    "// Java program to demonstrate working of Collections.sort() \n",
    "// to descending order. \n",
    "import java.util.*; \n",
    " \n",
    "public class Collectionsorting2\n",
    "{ \n",
    "    public static void main(String[] args) \n",
    "    { \n",
    "        // Create a list of strings \n",
    "        ArrayList<String> al = new ArrayList<String>(); \n",
    "        al.add(\"Aaron\"); \n",
    "        al.add(\"Tong\"); \n",
    "        al.add(\"James\"); \n",
    "        al.add(\"Shaurya\"); \n",
    "        al.add(\"Shivansh\"); \n",
    " \n",
    "        /* Collections.sort method is sorting the \n",
    "        elements of ArrayList in ascending order. */\n",
    "        Collections.sort(al, Collections.reverseOrder()); \n",
    " \n",
    "        // Let us print the sorted list \n",
    "        System.out.println(\"List after the use of\" + \n",
    "                        \" Collection.sort() :\\n\" + al); \n",
    "    } \n",
    "} \n",
    "Collectionsorting2.main(null);"
   ]
  },
  {
   "cell_type": "markdown",
   "metadata": {},
   "source": [
    "#### Sorting an ArrayList according to user defined criteria\n",
    "compare method that specifies the sorting criteria, in this case, sorting the Student objects in ascending order based on their number attribute."
   ]
  },
  {
   "cell_type": "code",
   "execution_count": null,
   "metadata": {},
   "outputs": [],
   "source": [
    "// Java program to demonstrate working of Comparator \n",
    "// interface and Collections.sort() to sort according \n",
    "// to user defined criteria. \n",
    "import java.util.*; \n",
    "import java.lang.*; \n",
    "import java.io.*; \n",
    " \n",
    "// A class to represent a student. \n",
    "class Student \n",
    "{ \n",
    "    int number; \n",
    "    String name, address; \n",
    " \n",
    "    // Constructor \n",
    "    public Student(int number, String name, \n",
    "                            String address) \n",
    "    { \n",
    "        this.number = number; \n",
    "        this.name = name; \n",
    "        this.address = address; \n",
    "    } \n",
    " \n",
    "    // Used to print student details in main() \n",
    "    public String toString() \n",
    "    { \n",
    "        return this.number + \" \" + this.name + \n",
    "                        \" \" + this.address; \n",
    "    } \n",
    "} \n",
    " \n",
    "class Sortbyroll implements Comparator<Student> \n",
    "{ \n",
    "    // Used for sorting in ascending order of \n",
    "    // roll number \n",
    "    public int compare(Student a, Student b) \n",
    "    { \n",
    "        return a.number - b.number; \n",
    "    } \n",
    "} \n",
    " \n",
    "// Driver class \n",
    "class Main \n",
    "{ \n",
    "    public static void main (String[] args) \n",
    "    { \n",
    "        ArrayList<Student> ar = new ArrayList<Student>(); \n",
    "        ar.add(new Student(111, \"James\", \"london\")); \n",
    "        ar.add(new Student(131, \"Anthony\", \"nyc\")); \n",
    "        ar.add(new Student(121, \"Finn\", \"jaipur\")); \n",
    " \n",
    "        System.out.println(\"Unsorted\"); \n",
    "        for (int i=0; i<ar.size(); i++) \n",
    "            System.out.println(ar.get(i)); \n",
    " \n",
    "        Collections.sort(ar, new Sortbyroll()); \n",
    " \n",
    "        System.out.println(\"\\nSorted by number\"); \n",
    "        for (int i=0; i<ar.size(); i++) \n",
    "            System.out.println(ar.get(i)); \n",
    "    } \n",
    "} "
   ]
  }
 ],
 "metadata": {
  "kernelspec": {
   "display_name": "Java",
   "language": "java",
   "name": "java"
  },
  "language_info": {
   "codemirror_mode": "java",
   "file_extension": ".jshell",
   "mimetype": "text/x-java-source",
   "name": "java",
   "pygments_lexer": "java",
   "version": "20.0.2+9"
  }
 },
 "nbformat": 4,
 "nbformat_minor": 2
}
