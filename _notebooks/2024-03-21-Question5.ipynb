{
 "cells": [
  {
   "cell_type": "markdown",
   "metadata": {},
   "source": [
    "---\n",
    "comments: true\n",
    "layout: posts\n",
    "title: Question 5\n",
    "type: hacks\n",
    "permalink: /q5\n",
    "toc: true\n",
    "courses: {'csa': {'week': 27}}\n",
    "---"
   ]
  },
  {
   "cell_type": "markdown",
   "metadata": {},
   "source": [
    "## Question 5: If, While, Else (Unit 3-4)\n",
    "Situation: You are developing a simple grading system where you need to determine if a given score is passing or failing.\n",
    "\n",
    "\n",
    "### Part (a)\n",
    "(a) Explain the roles and usage of the if statement, while loop, and else statement in Java programming. Provide examples illustrating each.\n",
    "\n",
    "#### Answer\n",
    "- if statements work as a condition. It decides the if it matches or not.\n",
    "- While loop is a kind of infinite loop until the condition in while statements becomes false\n",
    "- else statement is when none of the if statements do not matches. Then, else statement executed\n",
    "\n",
    "\n",
    "\n",
    "\n",
    "(b) Code:\n",
    "\n",
    "You need to implement a method printGradeStatus that takes an integer score as input and prints “Pass” if the score is greater than or equal to 60, and “Fail” otherwise. Write the method signature and the method implementation. Include comments to explain your code."
   ]
  },
  {
   "cell_type": "code",
   "execution_count": 1,
   "metadata": {},
   "outputs": [
    {
     "name": "stdout",
     "output_type": "stream",
     "text": [
      "Number is positive.\n",
      "Counting: 1\n",
      "Counting: 2\n",
      "Counting: 3\n",
      "Counting: 4\n",
      "Counting: 5\n",
      "Loop ends.\n"
     ]
    }
   ],
   "source": [
    "public class Example {\n",
    "    public static void main(String[] args) {\n",
    "        int number = 10;\n",
    "\n",
    "        // Example of if-else statement\n",
    "        if (number > 0) {\n",
    "            System.out.println(\"Number is positive.\");\n",
    "        } else if (number < 0) {\n",
    "            System.out.println(\"Number is negative.\");\n",
    "        } else {\n",
    "            System.out.println(\"Number is zero.\");\n",
    "        }\n",
    "\n",
    "        // Example of a while loop\n",
    "        int i = 1;\n",
    "        while (i <= 5) {\n",
    "            System.out.println(\"Counting: \" + i);\n",
    "            i++;\n",
    "        }\n",
    "        System.out.println(\"Loop ends.\");\n",
    "    }\n",
    "}\n",
    "Example.main(null);"
   ]
  },
  {
   "cell_type": "markdown",
   "metadata": {},
   "source": [
    "### Part (b)\n",
    "\n",
    "(b) Code:\n",
    "\n",
    "You need to implement a method printGradeStatus that takes an integer score as input and prints “Pass” if the score is greater than or equal to 60, and “Fail” otherwise. Write the method signature and the method implementation. Include comments to explain your code.\n",
    "\n",
    "#### Answer"
   ]
  },
  {
   "cell_type": "code",
   "execution_count": 2,
   "metadata": {},
   "outputs": [
    {
     "name": "stdout",
     "output_type": "stream",
     "text": [
      "Pass\n",
      "Fail\n"
     ]
    }
   ],
   "source": [
    "public class GradeStatusPrinter {\n",
    "    // Method to print the grade status based on the score\n",
    "    public static void printGradeStatus(int score) {\n",
    "        // Check if the score is greater than or equal to 60\n",
    "        if (score >= 60) {\n",
    "            // If score is greater than or equal to 60, print \"Pass\"\n",
    "            System.out.println(\"Pass\");\n",
    "        } else {\n",
    "            // If score is less than 60, print \"Fail\"\n",
    "            System.out.println(\"Fail\");\n",
    "        }\n",
    "    }\n",
    "\n",
    "    public static void main(String[] args) {\n",
    "        // Example usage of the method\n",
    "        printGradeStatus(75); // Output: Pass\n",
    "        printGradeStatus(45); // Output: Fail\n",
    "    }\n",
    "}\n",
    "GradeStatusPrinter.main(null);"
   ]
  }
 ],
 "metadata": {
  "kernelspec": {
   "display_name": "Java",
   "language": "java",
   "name": "java"
  },
  "language_info": {
   "codemirror_mode": "java",
   "file_extension": ".jshell",
   "mimetype": "text/x-java-source",
   "name": "java",
   "pygments_lexer": "java",
   "version": "11.0.22+7-post-Ubuntu-0ubuntu222.04.1"
  }
 },
 "nbformat": 4,
 "nbformat_minor": 2
}
