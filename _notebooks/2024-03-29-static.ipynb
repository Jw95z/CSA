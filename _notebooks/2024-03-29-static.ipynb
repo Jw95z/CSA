{
 "cells": [
  {
   "cell_type": "markdown",
   "metadata": {},
   "source": [
    "---\n",
    "comments: true\n",
    "layout: posts\n",
    "title: Static? Why use it\n",
    "type: tangibles\n",
    "permalink: static\n",
    "toc: true\n",
    "courses: {'csa': {'week': 28}}\n",
    "---"
   ]
  },
  {
   "cell_type": "markdown",
   "metadata": {},
   "source": [
    "Static. This is a keyword you come across a lot when developing using Java. Even if you just look at the main function,"
   ]
  },
  {
   "cell_type": "code",
   "execution_count": null,
   "metadata": {},
   "outputs": [],
   "source": [
    "public static void main(String[] args){ ... }"
   ]
  },
  {
   "cell_type": "markdown",
   "metadata": {},
   "source": [
    "So, let's find out why static is attached, what it is, and how it is used."
   ]
  },
  {
   "cell_type": "markdown",
   "metadata": {},
   "source": [
    "## What Static?\n",
    "Static means ‘fixed’. The reason for having this name is because variables or methods with static in front of them are variables or methods that are fixed to the class, not belonging to any object.        \n",
    "\n",
    "\n",
    "Let’s look at the features of Static\n",
    "1. Statically allocated in memory.\n",
    "2. Can be used without creating an object.\n",
    "3. When the program starts, it is loaded into the static area of ​​memory and is released when the program ends.\n",
    "4. Instance variables cannot be used within static methods.\n",
    "\n",
    "## 1. Statically allocated in memory.\n",
    "Methods or variables that are not Static are called each time an object is created and may have different values. Therefore, static can be useful **when one value must be maintained among each object.**\n",
    "\n",
    "## 2. Can be used without creating an object.\n",
    "Belonging to an object means that the variable or method can only be used by creating the object using the new keyword.\n",
    "\n",
    "Let's look at the code"
   ]
  },
  {
   "cell_type": "code",
   "execution_count": null,
   "metadata": {},
   "outputs": [],
   "source": [
    "public class Main {\n",
    " \n",
    "    public void print(){\n",
    "        System.out.print(\"Is this able to run?\");\n",
    "    }\n",
    " \n",
    "    public static void main(String[] args){\n",
    "        print();\n",
    "    }\n",
    "}"
   ]
  },
  {
   "cell_type": "markdown",
   "metadata": {},
   "source": [
    "Unfortunately it doesn't work and a compilation error occurs. The reason is that the method called print is not a static method, so it can be executed only when an object called Main is created. In order to run the code, it should be like this:"
   ]
  },
  {
   "cell_type": "code",
   "execution_count": 2,
   "metadata": {},
   "outputs": [
    {
     "name": "stdout",
     "output_type": "stream",
     "text": [
      "Is this able to run?"
     ]
    }
   ],
   "source": [
    "public class Main {\n",
    " \n",
    "    public void print(){\n",
    "        System.out.print(\"Is this able to run?\");\n",
    "    }\n",
    " \n",
    "    public static void main(String[] args){\n",
    "        Main main = new Main();\n",
    "        main.print();\n",
    "    }\n",
    "}\n",
    "Main.main(null);"
   ]
  },
  {
   "cell_type": "markdown",
   "metadata": {},
   "source": [
    "However, if the static is added in front, the code can be different."
   ]
  },
  {
   "cell_type": "code",
   "execution_count": 3,
   "metadata": {},
   "outputs": [
    {
     "name": "stdout",
     "output_type": "stream",
     "text": [
      "Is this able to run?"
     ]
    }
   ],
   "source": [
    "public class Main {\n",
    " \n",
    "    public static void print(){\n",
    "        System.out.print(\"Is this able to run?\");\n",
    "    }\n",
    " \n",
    "    public static void main(String[] args){\n",
    "        print();\n",
    "    }\n",
    "}\n",
    "Main.main(null);"
   ]
  },
  {
   "cell_type": "markdown",
   "metadata": {},
   "source": [
    "\n",
    "\n",
    "By adding the static, you can use a method or variable without creating an object.\n",
    "\n",
    "## 3. When a program starts, it is loaded into the static area of memory and is released when the program ends.\n",
    "When a program starts and a class is loaded into memory, static variables or methods are automatically created in the static area of memory along with the class. Since it is automatically loaded into memory, it can be used without creating an object. Also, since it is automatically loaded into memory, the main function can be implemented as static so that it can be executed immediately.\n",
    "\n",
    " \n",
    "\n",
    "When a general method creates an object, it goes up to the heap area of memory. This heap area of memory is automatically managed by the Garbage Collector. In other words, it manages memory by automatically deleting unused objects.\n",
    "\n",
    " \n",
    "\n",
    "On the other hand, static methods do not receive this management because they exist in the static area. Therefore, memory is released when the program ends, which can lead to memory overload if too many statics are declared.\n",
    "\n",
    " \n",
    "\n",
    "Also, if there are more static methods than the memory size of the static area when the program starts, an error may occur at the start. Therefore, you should be careful about indiscriminately using static just because it is easy to use.\n",
    "\n",
    "\n",
    "## 4. Instance variables cannot be used within static methods.\n",
    "Static methods are loaded into memory as soon as the program is executed, so instance variables cannot be used. Since instance variables can only be used by creating an object, they cannot be used in static methods that are loaded into memory before creating an object. So, if you want to add static to a method, you must first check whether there is a part inside the method that uses an instance variable or an instance method.\n",
    "\n",
    " \n",
    "\n",
    "Of course, on the contrary, using static variables in instance methods is not a problem at all."
   ]
  }
 ],
 "metadata": {
  "kernelspec": {
   "display_name": "Java",
   "language": "java",
   "name": "java"
  },
  "language_info": {
   "codemirror_mode": "java",
   "file_extension": ".jshell",
   "mimetype": "text/x-java-source",
   "name": "java",
   "pygments_lexer": "java",
   "version": "11.0.22+7-post-Ubuntu-0ubuntu222.04.1"
  }
 },
 "nbformat": 4,
 "nbformat_minor": 2
}
