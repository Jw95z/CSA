{
 "cells": [
  {
   "cell_type": "markdown",
   "metadata": {},
   "source": [
    "---\n",
    "layout: home\n",
    "---"
   ]
  },
  {
   "cell_type": "markdown",
   "metadata": {},
   "source": [
    "## Description\n",
    "[If you want to learn more about, click this](https://www.w3schools.com/java/java_arraylist.asp)"
   ]
  },
  {
   "cell_type": "markdown",
   "metadata": {},
   "source": [
    "## List and Array \n",
    "Array: It is a data structure for grouping and managing multiple data under one name.        \n",
    "List: It also used to group and manage data, but there is something different from Array!\n",
    "## Difference\n",
    "- index         \n",
    "list: If the previous element is deleted, the newly added element can be stored in that space.       \n",
    "Array: There is a designated space\n",
    "- define size       \n",
    "In java, array has to define the size.     \n",
    "list doesn't have to."
   ]
  },
  {
   "cell_type": "code",
   "execution_count": null,
   "metadata": {
    "vscode": {
     "languageId": "java"
    }
   },
   "outputs": [],
   "source": [
    "%%java\n",
    "import java.util.ArrayList;\n",
    "ArrayList<Integer> integers1 = new ArrayList<Integer>(); // type\n",
    "ArrayList<Integer> integers2 = new ArrayList<>(); // ignore type\n",
    "ArrayList<Integer> integers3 = new ArrayList<>(10); // setting capacity\n",
    "ArrayList<Integer> integers4 = new ArrayList<>(integers1); // can put other collection\n",
    "ArrayList<Integer> integers5 = new ArrayList<>(Arrays.asList(1, 2, 3, 4, 5)); // Arrays.asList()"
   ]
  },
  {
   "cell_type": "code",
   "execution_count": 1,
   "metadata": {
    "vscode": {
     "languageId": "java"
    }
   },
   "outputs": [
    {
     "name": "stdout",
     "output_type": "stream",
     "text": [
      "[Blue, Black, White, Red]\n"
     ]
    }
   ],
   "source": [
    "\n",
    "%%java\n",
    "import java.util.ArrayList;\n",
    "\n",
    "public class ArrayListTest1 {\n",
    "    public static void main(String[] args) {\n",
    "        ArrayList<String> colors = new ArrayList<>();\n",
    "        // add() method\n",
    "        colors.add(\"Black\");\n",
    "        colors.add(\"White\");\n",
    "        colors.add(0, \"Green\");\n",
    "        colors.add(\"Red\");\n",
    "\n",
    "        // set() method\n",
    "        colors.set(0, \"Blue\");\n",
    "\n",
    "        System.out.println(colors);\n",
    "    }\n",
    "}\n",
    "ArrayListTest1.main(null);"
   ]
  },
  {
   "cell_type": "code",
   "execution_count": 3,
   "metadata": {
    "vscode": {
     "languageId": "java"
    }
   },
   "outputs": [
    {
     "name": "stdout",
     "output_type": "stream",
     "text": [
      "Removed color is Black\n",
      "[Green, Red]\n",
      "[]\n"
     ]
    }
   ],
   "source": [
    "%%java\n",
    "import java.util.ArrayList;\n",
    "\n",
    "public class ArrayListTest2 {\n",
    "    public static void main(String[] args) {\n",
    "        ArrayList<String> colors = new ArrayList<>(Arrays.asList(\"Black\", \"White\", \"Green\", \"Red\"));\n",
    "        String removedColor = colors.remove(0);\n",
    "        System.out.println(\"Removed color is \" + removedColor);\n",
    "\n",
    "        colors.remove(\"White\");\n",
    "        System.out.println(colors);\n",
    "\n",
    "        colors.clear();\n",
    "        System.out.println(colors);\n",
    "    }\n",
    "}\n",
    "ArrayListTest2.main(null);"
   ]
  },
  {
   "cell_type": "markdown",
   "metadata": {},
   "source": [
    "Users of a website are asked to provide a review of the website at the end of each visit. Each review, represented by an object of the Review class, consists of an integer indicating the user’s rating of the website and an optional String comment field. The comment field in a Review object ends with a period (\".\"), exclamation point (\"!\"), or letter, or is a String of length 0 if the user did not enter a comment."
   ]
  },
  {
   "cell_type": "code",
   "execution_count": 3,
   "metadata": {
    "vscode": {
     "languageId": "java"
    }
   },
   "outputs": [],
   "source": [
    "%%java\n",
    "public class Review  {  \n",
    "    private int rating;  \n",
    "    private String comment;  \n",
    "    /** Precondition: r >= 0  \n",
    "    * c is not null. \n",
    "    */ \n",
    "    public Review(int r, String c)  {  \n",
    "        rating = r;  \n",
    "        comment = c;  \n",
    "    }  \n",
    "    public int getRating()  {  \n",
    "        return rating;  \n",
    "    }  \n",
    "    public String getComment()  {  \n",
    "        return comment;  \n",
    "    }  \n",
    "    // There may be instance variables, constructors, and methods that are not shown. \n",
    "} "
   ]
  },
  {
   "cell_type": "markdown",
   "metadata": {},
   "source": [
    "Write the ReviewAnalysis method collectComments, which collects and formats only comments that contain an exclamation point. The method returns an ArrayList of String  objects containing copies of user comments from allReviews that contain an exclamation point, formatted as follows. An empty ArrayList is returned if no comment in allReviews contains an exclamation point. \n"
   ]
  },
  {
   "cell_type": "markdown",
   "metadata": {},
   "source": [
    "- The String inserted into the ArrayList to be returned begins with the index of the Review in allReviews. \n",
    "- The index is immediately followed by a hyphen (\"-\"). \n",
    "- The hyphen is followed by a copy of the original comment. \n",
    "- The String must end with either a period or an exclamation point. If the original comment from allReviews does not end in either a period or an exclamation point, a period is added. "
   ]
  },
  {
   "cell_type": "markdown",
   "metadata": {},
   "source": [
    "![](/images/FRQ_images.png)"
   ]
  },
  {
   "cell_type": "code",
   "execution_count": null,
   "metadata": {
    "vscode": {
     "languageId": "java"
    }
   },
   "outputs": [],
   "source": [
    "%%java\n",
    "public class ReviewAnalysis  { \n",
    "    /** All user reviews to be included in this analysis */  \n",
    "    private Review[] allReviews;  \n",
    "    public ReviewAnalysis()  { \n",
    "        /* write this in part a */\n",
    "        /* Returns a double representing the average rating of all the Review objects to be * analyzed, as described in part (a) */ \n",
    "    }  \n",
    "    public double getAverageRating()  { \n",
    "        /* write this in part a */\n",
    "        /* Returns an ArrayList of String objects containing formatted versions of * selected user comments, as described in part (b) */\n",
    "    } \n",
    "    public ArrayList<String> collectComments() { \n",
    "        /* write this in part a */\n",
    "    }  \n",
    "}  "
   ]
  },
  {
   "cell_type": "markdown",
   "metadata": {},
   "source": [
    "Complete the collect method.\n",
    "## Answer"
   ]
  },
  {
   "cell_type": "code",
   "execution_count": 44,
   "metadata": {
    "vscode": {
     "languageId": "java"
    }
   },
   "outputs": [],
   "source": [
    "// Returns an ArrayList of String objects containing formatted versions of * selected user comments, as described in part (b) \n",
    "// Precondition: allReviews contains at least one Review.  No element of allReviews is null. \n",
    "// Postcondition: allReviews is unchanged. \n",
    "%%java\n",
    "public class Review  {  \n",
    "    private int rating;  \n",
    "    private String comment;  \n",
    "    public Review(int r, String c)  {  \n",
    "        rating = r;  \n",
    "        comment = c;  \n",
    "    }  \n",
    "    public int getRating()  {  \n",
    "        return rating;  \n",
    "    }  \n",
    "    public String getComment()  {  \n",
    "        return comment;  \n",
    "    }  \n",
    "} \n",
    "public class ReviewAnalysis  { \n",
    "    private Review[] allReviews; \n",
    "    public ArrayList<String> collectComments() {\n",
    "        // Create an ArrayList to store the comments that meet the criteria\n",
    "        ArrayList<String> commentList = new ArrayList<String>();\n",
    "        \n",
    "        for (int i = 0; i<allReviews.size(); i++) {\n",
    "            if(allReviews.get(i).getComment().contains(\"!\") || allReviews.get(i).getComment().contains(\".\")) {\n",
    "                commentList.add(allReviews.get(i).getRating() +\"-\" + allReviews.get(i).getComment());\n",
    "            }\n",
    "        }\n",
    "        \n",
    "        // Return the list of comments that meet the criteria\n",
    "        return commentList;\n",
    "    }\n",
    "}"
   ]
  },
  {
   "cell_type": "markdown",
   "metadata": {},
   "source": [
    "## Explanation\n",
    "1. creating the Arraylist called \"commentList\"\n",
    "2. making variable called comment which becomes the elements of list of allReviews\n",
    "3. check the comment whether it contains the letter \"!\"\n",
    "4. Check if the last character is neither '!' nor '.' by using the conditions !last.equals(\"!\") && !last.equals(\".\"). If this condition is met, it appends a '.' to the end of the comment string using comment += \".\".\n",
    "5. Adds the modified comment, along with the current index i, to the commentList ArrayList in the format i + \"-\" + comment. This format is used to associate the comment with its original index in the allReviews array.\n",
    "6. The loop continues.\n",
    "7. After loop is ended, return commentList"
   ]
  },
  {
   "cell_type": "markdown",
   "metadata": {},
   "source": [
    "## Part A\n",
    "(a) Write the ReviewAnalysis method getAverageRating, which returns the average rating (arithmetic mean) of all elements of allReviews. For example, getAverageRating would return 3.4 if allReviews contained the following Review objects. \n"
   ]
  },
  {
   "cell_type": "code",
   "execution_count": null,
   "metadata": {
    "vscode": {
     "languageId": "java"
    }
   },
   "outputs": [],
   "source": [
    "%%java\n",
    "public class ReviewAnalysis  { \n",
    "    private Review[] allReviews; \n",
    "    public double getAverageRating() { \n",
    "        int average = 0;\n",
    "        for (String i: allReviews) {\n",
    "            average += i.getRating();\n",
    "        }\n",
    "        return average/allReviews.length;\n",
    "    \n",
    "    }\n",
    "}"
   ]
  },
  {
   "cell_type": "markdown",
   "metadata": {},
   "source": [
    "## Completed Code"
   ]
  },
  {
   "cell_type": "code",
   "execution_count": 174,
   "metadata": {
    "vscode": {
     "languageId": "java"
    }
   },
   "outputs": [],
   "source": [
    "%%java\n",
    "public class Review  {  \n",
    "    private int rating;  \n",
    "    private String comment;  \n",
    "    public Review(int r, String c)  {  \n",
    "        rating = r;  \n",
    "        comment = c;  \n",
    "    }  \n",
    "    public int getRating()  {  \n",
    "        return rating;  \n",
    "    }  \n",
    "    public String getComment()  {  \n",
    "        return comment;  \n",
    "    }  \n",
    "} \n",
    "public class ReviewAnalysis  { \n",
    "    private Review[] allReviews; \n",
    "    public ReviewAnalysis()  { \n",
    "        allReviews = new Review[] { new Review(4, \"Good Luck!\") };\n",
    "    }\n",
    "    \n",
    "    public ArrayList<String> collectComments() {\n",
    "        // Create an ArrayList to store the comments that meet the criteria\n",
    "        ArrayList<String> commentList = new ArrayList<String>();\n",
    "        \n",
    "        for (int i = 0; i<allReviews.size(); i++) {\n",
    "            if(allReviews.get(i).getComment().contains(\"!\") || allReviews.get(i).getComment().contains(\".\")) {\n",
    "                commentList.add(allReviews.get(i).getRating() +\"-\" + allReviews.get(i).getComment());\n",
    "            }\n",
    "        }\n",
    "        \n",
    "        // Return the list of comments that meet the criteria\n",
    "        return commentList;\n",
    "    }\n",
    "    public double getAverageRating() { \n",
    "        double average = 0;\n",
    "        for (int i= 0; i<allReviews.length; i++) {\n",
    "            double rating = allReviews[i].getRating;\n",
    "            average += rating;\n",
    "        }\n",
    "        return average/comments.size();\n",
    "    } \n",
    "}"
   ]
  },
  {
   "cell_type": "markdown",
   "metadata": {},
   "source": [
    "## Completed Code but actually runs"
   ]
  },
  {
   "cell_type": "code",
   "execution_count": 177,
   "metadata": {
    "vscode": {
     "languageId": "java"
    }
   },
   "outputs": [
    {
     "name": "stdout",
     "output_type": "stream",
     "text": [
      "Average Rating: 3.0\n"
     ]
    }
   ],
   "source": [
    "%%java\n",
    "import java.util.ArrayList;\n",
    "public class Review  {  \n",
    "    private int rating;  \n",
    "    private String comment;  \n",
    "    public Review(int r, String c)  {  \n",
    "        rating = r;  \n",
    "        comment = c;  \n",
    "    }  \n",
    "    public int getRating()  {  \n",
    "        return rating;  \n",
    "    }  \n",
    "    public String getComment()  {  \n",
    "        return comment;  \n",
    "    }  \n",
    "} \n",
    "public class ReviewAnalysis  { \n",
    "    private Review[] allReviews; \n",
    "    public ReviewAnalysis() {\n",
    "        allReviews = new Review[] {\n",
    "            new Review(5, \"Great product!\"),\n",
    "            new Review(1, \"Terrible serasdjkfljadsf\")\n",
    "        };\n",
    "    }\n",
    "    \n",
    "    public ArrayList<String> collectComments() {\n",
    "        // Create an ArrayList to store the comments that meet the criteria\n",
    "        ArrayList<String> commentList = new ArrayList<String>();\n",
    "        \n",
    "        for (int i = 0; i<allReviews.length; i++) {\n",
    "            if(allReviews[i].getComment().contains(\"!\") || allReviews[i].getComment().contains(\".\")) {\n",
    "                commentList.add(allReviews[i].getRating() +\"-\" + allReviews[i].getComment());\n",
    "            }\n",
    "        }\n",
    "        \n",
    "        // Return the list of comments that meet the criteria\n",
    "        return commentList;\n",
    "    }\n",
    "    public double getAverageRating() { \n",
    "        double average = 0;\n",
    "        for (int i= 0; i<allReviews.length; i++) {\n",
    "            double rating = allReviews[i].getRating();\n",
    "            average += rating;\n",
    "        }\n",
    "        return average/allReviews.length;\n",
    "    } \n",
    "    public static void main(String[] args) {\n",
    "        ReviewAnalysis analysis = new ReviewAnalysis();\n",
    "        System.out.println(\"Average Rating: \" + analysis.getAverageRating());\n",
    "    }\n",
    "}\n",
    "ReviewAnalysis.main(null);"
   ]
  },
  {
   "cell_type": "markdown",
   "metadata": {},
   "source": [
    "## FRQ answer"
   ]
  },
  {
   "cell_type": "code",
   "execution_count": null,
   "metadata": {
    "vscode": {
     "languageId": "java"
    }
   },
   "outputs": [],
   "source": [
    "%%java\n",
    "public double getAverageRating() { \n",
    "    int sum = 0; \n",
    "    \n",
    "    for (Review r : allReviews) \n",
    "    { \n",
    "    sum += r.getRating(); \n",
    "    } \n",
    "    return (double) sum / allReviews.length; \n",
    "} \n",
    "public ArrayList<String> collectComments() { \n",
    "    ArrayList<String> commentList = new ArrayList<String>(); \n",
    "    for (int i = 0; i < allReviews.length; i++) \n",
    "    { \n",
    "    String comment = allReviews[i].getComment(); \n",
    "    if (comment.indexOf(\"!\") >= 0) \n",
    "    { \n",
    "    String last = \n",
    "    comment.substring(comment.length() – 1); \n",
    "    if (!last.equals(\"!\") && !last.equals(\".\")) \n",
    "    { \n",
    "    comment += \".\"; \n",
    "    } \n",
    "    commentList.add(i + \"-\" + comment); \n",
    "    } \n",
    "    } \n",
    "    return commentList; \n",
    "} "
   ]
  },
  {
   "cell_type": "code",
   "execution_count": 111,
   "metadata": {
    "vscode": {
     "languageId": "java"
    }
   },
   "outputs": [
    {
     "name": "stdout",
     "output_type": "stream",
     "text": [
      "Average Rating: 3.0\n",
      "Comments with corrections: [0-Great product!, 1-Terrible service!!]\n"
     ]
    }
   ],
   "source": [
    "%%java\n",
    "import java.util.ArrayList;\n",
    "public class Review {\n",
    "    private String comment;\n",
    "    private int rating;\n",
    "\n",
    "    public Review(String comment, int rating) {\n",
    "        this.comment = comment;\n",
    "        this.rating = rating;\n",
    "    }\n",
    "\n",
    "    public String getComment() {\n",
    "        return comment;\n",
    "    }\n",
    "\n",
    "    public int getRating() {\n",
    "        return rating;\n",
    "    }\n",
    "}\n",
    "public class ReviewAnalysis {\n",
    "    public Review[] allReviews;\n",
    "\n",
    "    public ReviewAnalysis(Review[] reviews) {\n",
    "        this.allReviews = reviews;\n",
    "        \n",
    "    }\n",
    "\n",
    "    public double getAverageRating() {\n",
    "        int sum = 0;\n",
    "        for (Review r : allReviews) {\n",
    "            sum += r.getRating();\n",
    "        }\n",
    "        return (double) sum / allReviews.length;\n",
    "    }\n",
    "\n",
    "    public ArrayList<String> collectComments() {\n",
    "        ArrayList<String> commentList = new ArrayList<String>();\n",
    "        for (int i = 0; i < allReviews.length; i++) {\n",
    "            String comment = allReviews[i].getComment();\n",
    "            if (comment.indexOf(\"!\") >= 0) {\n",
    "                String last = comment.substring(comment.length() - 1);\n",
    "                if (!last.equals(\"!\") && !last.equals(\".\")) {\n",
    "                    comment += \".\";\n",
    "                }\n",
    "                commentList.add(i + \"-\" + comment);\n",
    "            }\n",
    "        }\n",
    "        return commentList;\n",
    "    }\n",
    "\n",
    "    public static void main(String[] args) {\n",
    "        // Example usage:\n",
    "        Review[] reviews = new Review[] {\n",
    "            new Review(\"Great product!\", 5),\n",
    "            new Review(\"Terrible service!!\", 1)\n",
    "        };\n",
    "\n",
    "        ReviewAnalysis analysis = new ReviewAnalysis(reviews);\n",
    "        System.out.println(\"Average Rating: \" + analysis.getAverageRating());\n",
    "        System.out.println(\"Comments with corrections: \" + analysis.collectComments());\n",
    "    }\n",
    "}\n",
    "ReviewAnalysis.main(null);"
   ]
  },
  {
   "cell_type": "markdown",
   "metadata": {},
   "source": [
    "## Grading\n",
    "### Part A\n",
    "- Initializes and accumulates sum: I think I can get point from this because I used for loop to sum all the reviews and divide with the total amount. Besides, my getRating method is working properly.\n",
    "- I correctly access to the all of elements of allReviews\n",
    "- sums all the number for the elements and return in double form, and also uses the getRating method to get all the values\n",
    "### Part B\n",
    "- creates the Arraylist called commentlist and put the number-string in the array\n",
    "- use the getComment correctly to pull out the elements or allReviews \n",
    "- compared each values whether it has ! or . in the String. If it is, put in the arraylist\n"
   ]
  },
  {
   "cell_type": "markdown",
   "metadata": {},
   "source": [
    "## Advanced "
   ]
  },
  {
   "cell_type": "code",
   "execution_count": 1,
   "metadata": {
    "vscode": {
     "languageId": "java"
    }
   },
   "outputs": [
    {
     "name": "stdout",
     "output_type": "stream",
     "text": [
      "Average Rating: 3.4\n"
     ]
    }
   ],
   "source": [
    "%%java\n",
    "import java.util.ArrayList;\n",
    "public class Review  {  \n",
    "    private int rating;  \n",
    "    private String comment;  \n",
    "    public Review(int r, String c)  {  \n",
    "        rating = r;  \n",
    "        comment = c;  \n",
    "    }  \n",
    "    public int getRating()  {  \n",
    "        return rating;  \n",
    "    }  \n",
    "    public String getComment()  {  \n",
    "        return comment;  \n",
    "    }  \n",
    "} \n",
    "public class ReviewAnalysis  { \n",
    "    private Review[] allReviews; \n",
    "    public ReviewAnalysis() {\n",
    "        allReviews = new Review[] {\n",
    "            new Review(5, \"Great product!\"),\n",
    "            new Review(5, \"Terrible ser!!\"),\n",
    "            new Review(5, \"adsfjlasjfkasjf!\"),\n",
    "            new Review(1, \"adsfjlasjfkasjf!\"),\n",
    "            new Review(1, \"adsfjlasjfkasjf!\")\n",
    "        };\n",
    "    }\n",
    "    \n",
    "    public ArrayList<String> collectComments() {\n",
    "        // Create an ArrayList to store the comments that meet the criteria\n",
    "        ArrayList<String> commentList = new ArrayList<String>();\n",
    "        \n",
    "        for (int i = 0; i<allReviews.length; i++) {\n",
    "            if(allReviews[i].getComment().contains(\"!\") || allReviews[i].getComment().contains(\".\")) {\n",
    "                if (allReviews[i].getRating() <= 5 && allReviews[i].getRating() >= 0){\n",
    "                    commentList.add(allReviews[i].getRating() +\"-\" + allReviews[i].getComment());\n",
    "                }\n",
    "                \n",
    "            }\n",
    "        }\n",
    "        \n",
    "        // Return the list of comments that meet the criteria\n",
    "        return commentList;\n",
    "    }\n",
    "    public double getAverageRating() { \n",
    "        ArrayList<String> comments = collectComments();\n",
    "        double sum = 0.0;\n",
    "        for (int i= 0; i<comments.size(); i++) {\n",
    "            String [] each_comments = comments.get(i).split(\"-\");\n",
    "            double rating = Integer.parseInt(each_comments[0]);\n",
    "            sum += rating;\n",
    "        }\n",
    "        \n",
    "        double average = sum/comments.size();\n",
    "        return average;\n",
    "        \n",
    "    } \n",
    "    public static void main(String[] args) {\n",
    "        ReviewAnalysis analysis = new ReviewAnalysis();\n",
    "        System.out.println(\"Average Rating: \" + analysis.getAverageRating());\n",
    "    }\n",
    "}\n",
    "ReviewAnalysis.main(null);"
   ]
  },
  {
   "cell_type": "code",
   "execution_count": 3,
   "metadata": {
    "vscode": {
     "languageId": "java"
    }
   },
   "outputs": [
    {
     "name": "stdout",
     "output_type": "stream",
     "text": [
      "type your nickname!\n",
      "type your nickname!\n",
      "type your nickname!\n",
      "type your nickname!\n",
      "type your nickname!\n",
      "The most longest nickname is --> aldsfjk;alksjfkladfaadasf\n"
     ]
    }
   ],
   "source": [
    "%%java\n",
    "import java.util.ArrayList;\n",
    "import java.util.Scanner;\n",
    "public class ArrayList_Ex {\n",
    "    public static void main(String[] args) {\n",
    "\n",
    "        Scanner sc = new Scanner(System.in);\n",
    "        ArrayList<String > nicknames = new ArrayList(); \n",
    "        int[] lengthArr = new int[5]; \n",
    "        int max = lengthArr[0]; \n",
    "\n",
    "        for (int i = 0 ; i <= 4 ; i++) { \n",
    "            System.out.println(\"type your nickname!\");\n",
    "            String getNickname = sc.nextLine();\n",
    "            nicknames.add(getNickname);\n",
    "        }\n",
    "\n",
    "\n",
    "        for (int i = 0 ; i <= 4 ; i++) {\n",
    "            lengthArr[i] = nicknames.get(i).length();\n",
    "            if (max < lengthArr[i]) { \n",
    "                max = lengthArr[i];\n",
    "            }\n",
    "        }\n",
    "\n",
    "        for (int i = 0 ; i <= 4 ; i++) { \n",
    "            if (max == nicknames.get(i).length()) {\n",
    "                System.out.println(\"The most longest nickname is --> \" + nicknames.get(i));\n",
    "            }\n",
    "        }\n",
    "    }\n",
    "}\n",
    "ArrayList_Ex.main(null)"
   ]
  },
  {
   "cell_type": "markdown",
   "metadata": {},
   "source": [
    "## Reflection\n",
    "After taking the test in Friday, I realized I should write the code myself instead of just copying from the FRQ. Besides, I did the extra by changing some code in frq. Moreover, in the second project, I think there's a way to do it using fewer for statements, but I'm not sure. The significance is that I learned ArrayList and used it somewhere. I tried to create a way to handle duplicate values, but I thought that code would be okay because even if duplicate values appear, they both came out for the output, so i think it is okay to leave it "
   ]
  }
 ],
 "metadata": {
  "kernelspec": {
   "display_name": "Java",
   "language": "java",
   "name": "java"
  },
  "language_info": {
   "codemirror_mode": "java",
   "file_extension": ".jshell",
   "mimetype": "text/x-java-source",
   "name": "Java",
   "pygments_lexer": "java",
   "version": "20.0.2+9"
  },
  "orig_nbformat": 4
 },
 "nbformat": 4,
 "nbformat_minor": 2
}
