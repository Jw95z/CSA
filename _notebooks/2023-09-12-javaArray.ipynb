{
 "cells": [
  {
   "cell_type": "markdown",
   "metadata": {},
   "source": [
    "---\n",
    "layout: home\n",
    "---"
   ]
  },
  {
   "cell_type": "markdown",
   "metadata": {},
   "source": [
    "Users of a website are asked to provide a review of the website at the end of each visit. Each review, represented by an object of the Review class, consists of an integer indicating the user’s rating of the website and an optional String comment field. The comment field in a Review object ends with a period (\".\"), exclamation point (\"!\"), or letter, or is a String of length 0 if the user did not enter a comment."
   ]
  },
  {
   "cell_type": "code",
   "execution_count": null,
   "metadata": {},
   "outputs": [],
   "source": [
    "public class ReviewAnalysis  { \n",
    "    /** All user reviews to be included in this analysis */  \n",
    "    private Review[] allReviews;  \n",
    "    public ReviewAnalysis()  { \n",
    "        /* write this in part a */\n",
    "        /* Returns a double representing the average rating of all the Review objects to be * analyzed, as described in part (a) */ \n",
    "    }  \n",
    "    public double getAverageRating()  { \n",
    "        /* write this in part a */\n",
    "        /* Returns an ArrayList of String objects containing formatted versions of * selected user comments, as described in part (b) */\n",
    "    } \n",
    "    public ArrayList<String> collectComments() { \n",
    "        /* write this in part a */\n",
    "    }  \n",
    "}  \n"
   ]
  },
  {
   "cell_type": "markdown",
   "metadata": {},
   "source": [
    "(a) Write the ReviewAnalysis method getAverageRating, which returns the average rating (arithmetic mean) of all elements of allReviews. For example, getAverageRating would return 3.4 if allReviews contained the following Review objects. "
   ]
  },
  {
   "cell_type": "markdown",
   "metadata": {},
   "source": [
    "![](/images/FRQ_images.png)"
   ]
  },
  {
   "cell_type": "code",
   "execution_count": null,
   "metadata": {},
   "outputs": [],
   "source": [
    "public ArrayList<String> collectComments() \n",
    "{ \n",
    " ArrayList<String> commentList = new ArrayList<String>(); \n",
    " for (int i = 0; i < allReviews.length; i++) \n",
    " { \n",
    " String comment = allReviews[i].getComment(); \n",
    " if (comment.indexOf(\"!\") >= 0) \n",
    " { \n",
    " String last = \n",
    " comment.substring(comment.length() – 1); \n",
    " if (!last.equals(\"!\") && !last.equals(\".\")) \n",
    " { \n",
    " comment += \".\"; \n",
    " } \n",
    " commentList.add(i + \"-\" + comment); \n",
    " } \n",
    " } \n",
    " return commentList; \n",
    "}"
   ]
  },
  {
   "cell_type": "code",
   "execution_count": null,
   "metadata": {},
   "outputs": [],
   "source": [
    "public ArrayList<String> collectComments() \n",
    "{ \n",
    " ArrayList<String> commentList = new ArrayList<String>(); \n",
    " for (int i = 0; i < allReviews.length; i++) \n",
    " { \n",
    " String comment = allReviews[i].getComment(); \n",
    " if (comment.indexOf(\"!\") >= 0) \n",
    " { \n",
    " String last = \n",
    " comment.substring(comment.length() – 1); \n",
    " if (!last.equals(\"!\") && !last.equals(\".\")) \n",
    " { \n",
    " comment += \".\"; \n",
    " } \n",
    " commentList.add(i + \"-\" + comment); \n",
    " } \n",
    " } \n",
    " return commentList; \n",
    "}"
   ]
  },
  {
   "cell_type": "code",
   "execution_count": 8,
   "metadata": {},
   "outputs": [
    {
     "name": "stdout",
     "output_type": "stream",
     "text": [
      "[Volvo, BMW, Ford, Mazda]\n"
     ]
    }
   ],
   "source": [
    "\n",
    "import java.util.ArrayList;\n",
    "\n",
    "public class Main {\n",
    "  public static void main(String[] args) {\n",
    "    ArrayList<String> cars = new ArrayList<String>();\n",
    "    cars.add(\"Volvo\");\n",
    "    cars.add(\"BMW\");\n",
    "    cars.add(\"Ford\");\n",
    "    cars.add(\"Mazda\");\n",
    "    System.out.println(cars);\n",
    "  }\n",
    "  \n",
    "}\n",
    "Main.main(null);"
   ]
  },
  {
   "cell_type": "code",
   "execution_count": 21,
   "metadata": {},
   "outputs": [
    {
     "name": "stdout",
     "output_type": "stream",
     "text": [
      "[Ljava.lang.String;@e75e84c\n"
     ]
    }
   ],
   "source": [
    "public class List1 {\n",
    "    public static void main(String[] args) {\n",
    "        String[] cars = new String[3];\n",
    "        for(int i=0; i<3; i++) {\n",
    "            cars[i] = \"Volvo\";\n",
    "        }\n",
    "        System.out.println(cars);\n",
    "    }\n",
    "}\n",
    "List1.main(null);"
   ]
  },
  {
   "cell_type": "code",
   "execution_count": 20,
   "metadata": {},
   "outputs": [
    {
     "name": "stdout",
     "output_type": "stream",
     "text": [
      "Volvo\n",
      "Volvo\n",
      "Volvo\n"
     ]
    }
   ],
   "source": [
    "public class List2 {\n",
    "    public static void main(String[] args) {\n",
    "        String[] cars = new String[3];\n",
    "        for(int i=0; i<3; i++) {\n",
    "            cars[i] = \"Volvo\";\n",
    "        }\n",
    "        System.out.println(cars[0]);\n",
    "        System.out.println(cars[1]);\n",
    "        System.out.println(cars[2]);\n",
    "    }\n",
    "}\n",
    "List2.main(null);"
   ]
  }
 ],
 "metadata": {
  "kernelspec": {
   "display_name": "Java",
   "language": "java",
   "name": "java"
  },
  "language_info": {
   "codemirror_mode": "java",
   "file_extension": ".jshell",
   "mimetype": "text/x-java-source",
   "name": "java",
   "pygments_lexer": "java",
   "version": "11.0.20+8-post-Ubuntu-1ubuntu120.04"
  },
  "orig_nbformat": 4
 },
 "nbformat": 4,
 "nbformat_minor": 2
}
