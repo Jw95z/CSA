{
 "cells": [
  {
   "cell_type": "code",
   "execution_count": null,
   "metadata": {},
   "outputs": [],
   "source": [
    "public class Recursion_Test1\n",
    "{\n",
    "    public static void main(String[] args)\n",
    "    {\n",
    "        Function();\n",
    "    }\n",
    " \n",
    "    public static void Function()\n",
    "    {\n",
    "        System.out.println(\"Hello, World\");\n",
    " \n",
    "        Function();\n",
    "    }\n",
    "}\n",
    "Recursion_Test1.main(null);"
   ]
  },
  {
   "cell_type": "code",
   "execution_count": null,
   "metadata": {},
   "outputs": [],
   "source": [
    "public class Recursion_Test2\n",
    "{\n",
    "    public static void main(String[] args)\n",
    "    {\n",
    "        Function(5);\n",
    "    }\n",
    " \n",
    "    public static void Function(int num)\n",
    "    {\n",
    "        if(num == 0)\n",
    "        {\n",
    "            return;\n",
    "        }\n",
    "        else\n",
    "        {\n",
    "            System.out.println(\"Hello, World\");\n",
    "             Function(num - 1);\n",
    "        }\n",
    "    }\n",
    "}\n",
    "Recursion_Test2.main(null);"
   ]
  },
  {
   "cell_type": "code",
   "execution_count": null,
   "metadata": {},
   "outputs": [],
   "source": [
    "public class Recursion_Test3\n",
    "{\n",
    "    public static void main(String[] args)\n",
    "    {\n",
    "        System.out.println(\"sum 1 to 5 is: \" + Function(5));\n",
    "    }\n",
    " \n",
    "    public static int Function(int num)\n",
    "    {\n",
    "        if(num == 1)\n",
    "        {\n",
    "            return 1;\n",
    "        }\n",
    "        else\n",
    "        {\n",
    "            return num + Function(num -1);\n",
    "        }\n",
    "    }\n",
    "}\n"
   ]
  }
 ],
 "metadata": {
  "kernelspec": {
   "display_name": "Java",
   "language": "java",
   "name": "java"
  },
  "language_info": {
   "name": "java"
  },
  "orig_nbformat": 4
 },
 "nbformat": 4,
 "nbformat_minor": 2
}
