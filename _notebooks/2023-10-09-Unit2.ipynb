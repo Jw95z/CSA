{
 "cells": [
  {
   "cell_type": "markdown",
   "metadata": {},
   "source": [
    "---\n",
    "title: Unit 2\n",
    "permalink: /unit2\n",
    "courses: {csa: {week: 7} }\n",
    "categories: [C3.0, C3.1, C4.1]\n",
    "type: ccc\n",
    "---"
   ]
  },
  {
   "cell_type": "markdown",
   "metadata": {},
   "source": [
    "## Hack 1 (not used ChatGPT)"
   ]
  },
  {
   "cell_type": "code",
   "execution_count": 14,
   "metadata": {
    "vscode": {
     "languageId": "java"
    }
   },
   "outputs": [
    {
     "name": "stdout",
     "output_type": "stream",
     "text": [
      "3\n"
     ]
    }
   ],
   "source": [
    "import java.util.Scanner;\n",
    "public class Hack1 {\n",
    "    public ArrayList<Integer> integers = new ArrayList<>();\n",
    "    public void method1() {\n",
    "        Scanner a = new Scanner(System.in);\n",
    "        int b = a.nextInt();\n",
    "        integers.add(b);\n",
    "    }\n",
    "    public int method2(int c) {\n",
    "        return integers.get(c);\n",
    "    }\n",
    "    public static void main(String[] args) {\n",
    "        Hack1 myObject = new Hack1();\n",
    "        myObject.method1();\n",
    "        int d = myObject.method2(0);\n",
    "        System.out.println(d);\n",
    "    }\n",
    "}\n",
    "Hack1.main(null);"
   ]
  },
  {
   "cell_type": "markdown",
   "metadata": {},
   "source": [
    "## Hack 2 (not used ChatGPT)"
   ]
  },
  {
   "cell_type": "code",
   "execution_count": 22,
   "metadata": {
    "vscode": {
     "languageId": "java"
    }
   },
   "outputs": [],
   "source": [
    "import java.util.Random;\n",
    "import java.util.Scanner;\n",
    "public class Hack2 {\n",
    "    \n",
    "    public double exponent; \n",
    "    public void method1() {\n",
    "        int a = (int)(Math.random()*100);\n",
    "        int poss = (int)(Math.random()*100);\n",
    "        if (poss >= 1 && poss <= 33) {\n",
    "            exponent = 0.5;\n",
    "        } else if (poss >= 34 && poss <= 66) {\n",
    "            exponent = 1.0 / 3.0;\n",
    "        } else {\n",
    "            exponent = 2;\n",
    "        }\n",
    "    }\n",
    "    public static void method2(int e, double exponent) {\n",
    "        int attempts = 0;\n",
    "        System.out.println(\"Game Start!\");\n",
    "        Scanner b = new Scanner(System.in);\n",
    "        while(true) {\n",
    "            System.out.println(\"enter the number: \");\n",
    "            int c = b.nextInt();\n",
    "            System.out.println(\"guess the exponent: \");\n",
    "            double d = b.nextDouble();\n",
    "            attempts++;\n",
    "            if (c > e && d == exponent) {\n",
    "                System.out.println(\"high\");\n",
    "                System.out.println(\"exponent is correct\");\n",
    "            }\n",
    "            else if (c < e && d == exponent) {\n",
    "                System.out.println(\"low\");\n",
    "                System.out.println(\"exponent is correct\");\n",
    "            }\n",
    "            else if (c > e && d != exponent) {\n",
    "                System.out.println(\"high\");\n",
    "                System.out.println(\"exponent is wrong\");\n",
    "            }\n",
    "            else if (c < e && d != exponent) {\n",
    "                System.out.println(\"low\");\n",
    "                System.out.println(\"exponent is wrong\");\n",
    "            }\n",
    "            else if (c == e && d != exponent) {\n",
    "                System.out.println(\"correct\");\n",
    "                System.out.println(\"exponent is correct\");\n",
    "                System.out.println(\"attempt: \" + attempts);\n",
    "                break;\n",
    "            }\n",
    "        }\n",
    "        \n",
    "    }\n",
    "}"
   ]
  },
  {
   "cell_type": "markdown",
   "metadata": {},
   "source": [
    "## Hack 3"
   ]
  },
  {
   "cell_type": "code",
   "execution_count": 25,
   "metadata": {
    "vscode": {
     "languageId": "java"
    }
   },
   "outputs": [
    {
     "name": "stdout",
     "output_type": "stream",
     "text": [
      "Age :40.0\n",
      "Name :James\n",
      "Marriage :true\n",
      "number of children :3\n"
     ]
    }
   ],
   "source": [
    "\n",
    "\n",
    "public class People {\n",
    "\t\n",
    "\tpublic double age;\n",
    "\tpublic String name;\n",
    "\tpublic boolean isMarried;\n",
    "\tpublic int children;\n",
    "\t\n",
    "\tpublic void peopleinfo() {\n",
    "\t\t\n",
    "\t\tSystem.out.println(\"Age :\"+age);\n",
    "\t\tSystem.out.println(\"Name :\"+name);\n",
    "\t\tSystem.out.println(\"Marriage :\"+isMarried);\n",
    "\t\tSystem.out.println(\"number of children :\"+children);\n",
    "\t}\n",
    "\n",
    "}\n",
    "public class PeopleTest {\n",
    "\n",
    "\tpublic static void main(String[] args) {\n",
    "\n",
    "\t\tPeople peopleJames = new People();\n",
    "\t\t\n",
    "\t\tpeopleJames.age = 40.0;\n",
    "\t\tpeopleJames.name = \"James\";\n",
    "\t\tpeopleJames.isMarried = true;\n",
    "\t\tpeopleJames.children = 3;\n",
    "\t\t\n",
    "\t\tpeopleJames.peopleinfo();\n",
    "\t}\n",
    "\n",
    "}\n",
    "PeopleTest.main(null);"
   ]
  },
  {
   "cell_type": "markdown",
   "metadata": {},
   "source": [
    "## Hack 4"
   ]
  },
  {
   "cell_type": "code",
   "execution_count": 26,
   "metadata": {
    "vscode": {
     "languageId": "java"
    }
   },
   "outputs": [
    {
     "name": "stdout",
     "output_type": "stream",
     "text": [
      "Enter your full name: "
     ]
    },
    {
     "name": "stdout",
     "output_type": "stream",
     "text": [
      "First Name: James\n",
      "Last Name: Lee\n"
     ]
    }
   ],
   "source": [
    "import java.util.Scanner;\n",
    "\n",
    "public class PersonName {\n",
    "    private String fullName;\n",
    "\n",
    "    public PersonName(String fullName) {\n",
    "        this.fullName = fullName;\n",
    "    }\n",
    "\n",
    "    // Method to get the first name\n",
    "    public String getFirstName() {\n",
    "        StringBuilder firstName = new StringBuilder();\n",
    "\n",
    "        // Iterate through each character in the full name\n",
    "        for (int i = 0; i < fullName.length(); i++) {\n",
    "            char c = fullName.charAt(i);\n",
    "\n",
    "            // Check if the current character is not a space\n",
    "            if (c != ' ') {\n",
    "                // Append the character to the first name\n",
    "                firstName.append(c);\n",
    "            } else {\n",
    "                // If a space is encountered, stop iterating (we've found the first name)\n",
    "                break;\n",
    "            }\n",
    "        }\n",
    "\n",
    "        // Convert the StringBuilder to a String and return the first name\n",
    "        return firstName.toString();\n",
    "    }\n",
    "\n",
    "    // Method to get the last name\n",
    "    public String getLastName() {\n",
    "        StringBuilder lastName = new StringBuilder();\n",
    "        boolean foundSpace = false;\n",
    "\n",
    "        // Iterate through each character in the full name in reverse order\n",
    "        for (int i = fullName.length() - 1; i >= 0; i--) {\n",
    "            char c = fullName.charAt(i);\n",
    "\n",
    "            // Check if the current character is not a space and we haven't found a space yet\n",
    "            if (c != ' ' && !foundSpace) {\n",
    "                // Insert the character at the beginning of the last name (to reverse the order)\n",
    "                lastName.insert(0, c);\n",
    "            } else {\n",
    "                // If a space is encountered or we've already found a space, set the flag to true\n",
    "                foundSpace = true;\n",
    "            }\n",
    "        }\n",
    "\n",
    "        // Convert the StringBuilder to a String and return the last name\n",
    "        return lastName.toString();\n",
    "    }\n",
    "\n",
    "    public static void main(String[] args) {\n",
    "        Scanner scanner = new Scanner(System.in);\n",
    "\n",
    "        // Prompt the user for their full name\n",
    "        System.out.print(\"Enter your full name: \");\n",
    "        String fullName = scanner.nextLine();\n",
    "\n",
    "        // Create a PersonName object with the user's input\n",
    "        PersonName person = new PersonName(fullName);\n",
    "\n",
    "        // Get and print the first name\n",
    "        String firstName = person.getFirstName();\n",
    "        System.out.println(\"First Name: \" + firstName);\n",
    "\n",
    "        // Get and print the last name\n",
    "        String lastName = person.getLastName();\n",
    "        System.out.println(\"Last Name: \" + lastName);\n",
    "\n",
    "        // Close the scanner\n",
    "        scanner.close();\n",
    "    }\n",
    "}\n",
    "PersonName.main(null);"
   ]
  }
 ],
 "metadata": {
  "kernelspec": {
   "display_name": "Java",
   "language": "java",
   "name": "java"
  },
  "language_info": {
   "codemirror_mode": "java",
   "file_extension": ".jshell",
   "mimetype": "text/x-java-source",
   "name": "Java",
   "pygments_lexer": "java",
   "version": "20.0.2+9"
  }
 },
 "nbformat": 4,
 "nbformat_minor": 2
}
