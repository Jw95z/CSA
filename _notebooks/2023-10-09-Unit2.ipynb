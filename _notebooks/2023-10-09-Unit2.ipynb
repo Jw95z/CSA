{
 "cells": [
  {
   "cell_type": "markdown",
   "metadata": {},
   "source": [
    "---\n",
    "title: Unit 2\n",
    "permalink: /unit2\n",
    "courses: {csa: {week: 7} }\n",
    "categories: [C3.0, C3.1, C4.1]\n",
    "type: ccc\n",
    "---"
   ]
  },
  {
   "cell_type": "markdown",
   "metadata": {},
   "source": [
    "## Hack 1 (not used ChatGPT)"
   ]
  },
  {
   "cell_type": "code",
   "execution_count": 14,
   "metadata": {
    "vscode": {
     "languageId": "java"
    }
   },
   "outputs": [
    {
     "name": "stdout",
     "output_type": "stream",
     "text": [
      "3\n"
     ]
    }
   ],
   "source": [
    "import java.util.Scanner;\n",
    "public class Hack1 {\n",
    "    public ArrayList<Integer> integers = new ArrayList<>();\n",
    "    public void method1() {\n",
    "        Scanner a = new Scanner(System.in);\n",
    "        int b = a.nextInt();\n",
    "        integers.add(b);\n",
    "    }\n",
    "    public int method2(int c) {\n",
    "        return integers.get(c);\n",
    "    }\n",
    "    public static void main(String[] args) {\n",
    "        Hack1 myObject = new Hack1();\n",
    "        myObject.method1();\n",
    "        int d = myObject.method2(0);\n",
    "        System.out.println(d);\n",
    "    }\n",
    "}\n",
    "Hack1.main(null);"
   ]
  },
  {
   "cell_type": "markdown",
   "metadata": {},
   "source": [
    "## Hack 2 (not used ChatGPT)"
   ]
  },
  {
   "cell_type": "code",
   "execution_count": 22,
   "metadata": {
    "vscode": {
     "languageId": "java"
    }
   },
   "outputs": [],
   "source": [
    "import java.util.Random;\n",
    "import java.util.Scanner;\n",
    "public class Hack2 {\n",
    "    \n",
    "    public double exponent; \n",
    "    public void method1() {\n",
    "        int a = (int)(Math.random()*100);\n",
    "        int poss = (int)(Math.random()*100);\n",
    "        if (poss >= 1 && poss <= 33) {\n",
    "            exponent = 0.5;\n",
    "        } else if (poss >= 34 && poss <= 66) {\n",
    "            exponent = 1.0 / 3.0;\n",
    "        } else {\n",
    "            exponent = 2;\n",
    "        }\n",
    "    }\n",
    "    public static void method2(int e, double exponent) {\n",
    "        int attempts = 0;\n",
    "        System.out.println(\"Game Start!\");\n",
    "        Scanner b = new Scanner(System.in);\n",
    "        while(true) {\n",
    "            System.out.println(\"enter the number: \");\n",
    "            int c = b.nextInt();\n",
    "            System.out.println(\"guess the exponent: \");\n",
    "            double d = b.nextDouble();\n",
    "            attempts++;\n",
    "            if (c > e && d == exponent) {\n",
    "                System.out.println(\"high\");\n",
    "                System.out.println(\"exponent is correct\");\n",
    "            }\n",
    "            else if (c < e && d == exponent) {\n",
    "                System.out.println(\"low\");\n",
    "                System.out.println(\"exponent is correct\");\n",
    "            }\n",
    "            else if (c > e && d != exponent) {\n",
    "                System.out.println(\"high\");\n",
    "                System.out.println(\"exponent is wrong\");\n",
    "            }\n",
    "            else if (c < e && d != exponent) {\n",
    "                System.out.println(\"low\");\n",
    "                System.out.println(\"exponent is wrong\");\n",
    "            }\n",
    "            else if (c == e && d != exponent) {\n",
    "                System.out.println(\"correct\");\n",
    "                System.out.println(\"exponent is correct\");\n",
    "                System.out.println(\"attempt: \" + attempts);\n",
    "                break;\n",
    "            }\n",
    "        }\n",
    "        \n",
    "    }\n",
    "}"
   ]
  },
  {
   "cell_type": "markdown",
   "metadata": {},
   "source": [
    "## Hack 3"
   ]
  },
  {
   "cell_type": "code",
   "execution_count": 23,
   "metadata": {
    "vscode": {
     "languageId": "java"
    }
   },
   "outputs": [
    {
     "name": "stdout",
     "output_type": "stream",
     "text": [
      "Person 1 - Name: John, Age: 25, Student: false, Height: 5.9\n",
      "Person 2 - Name: Alice, Age: 18, Student: true, Height: 5.5\n",
      "Person 3 - Name: Bob, Age: 30, Student: false, Height: 6.0\n",
      "Person 4 - Name: Eve, Age: 22, Student: true, Height: 5.7\n",
      "Person 5 - Name: Charlie, Age: 28, Student: false, Height: 6.2\n"
     ]
    }
   ],
   "source": [
    "public class Person {\n",
    "    // Declare private instance variables for a Person\n",
    "    private int age;\n",
    "    private boolean isStudent;\n",
    "    private String name;\n",
    "    private double height;\n",
    "\n",
    "    // Constructor to initialize a Person with provided data\n",
    "    public Person(int age, boolean isStudent, String name, double height) {\n",
    "        // Initialize the instance variables with the provided values\n",
    "        this.age = age;\n",
    "        this.isStudent = isStudent;\n",
    "        this.name = name;\n",
    "        this.height = height;\n",
    "    }\n",
    "\n",
    "    // Getter method to retrieve the age of the Person\n",
    "    public int getAge() {\n",
    "        return age;\n",
    "    }\n",
    "\n",
    "    // Getter method to check if the Person is a student\n",
    "    public boolean isStudent() {\n",
    "        return isStudent;\n",
    "    }\n",
    "\n",
    "    // Getter method to retrieve the name of the Person\n",
    "    public String getName() {\n",
    "        return name;\n",
    "    }\n",
    "\n",
    "    // Getter method to retrieve the height of the Person\n",
    "    public double getHeight() {\n",
    "        return height;\n",
    "    }\n",
    "\n",
    "    public static void main(String[] args) {\n",
    "        // Create five Person instances with sample data\n",
    "        Person person1 = new Person(25, false, \"John\", 5.9);\n",
    "        Person person2 = new Person(18, true, \"Alice\", 5.5);\n",
    "        Person person3 = new Person(30, false, \"Bob\", 6.0);\n",
    "        Person person4 = new Person(22, true, \"Eve\", 5.7);\n",
    "        Person person5 = new Person(28, false, \"Charlie\", 6.2);\n",
    "\n",
    "        // Access and print information from the Person instances\n",
    "        System.out.println(\"Person 1 - Name: \" + person1.getName() + \", Age: \" + person1.getAge() + \", Student: \" + person1.isStudent() + \", Height: \" + person1.getHeight());\n",
    "        System.out.println(\"Person 2 - Name: \" + person2.getName() + \", Age: \" + person2.getAge() + \", Student: \" + person2.isStudent() + \", Height: \" + person2.getHeight());\n",
    "        System.out.println(\"Person 3 - Name: \" + person3.getName() + \", Age: \" + person3.getAge() + \", Student: \" + person3.isStudent() + \", Height: \" + person3.getHeight());\n",
    "        System.out.println(\"Person 4 - Name: \" + person4.getName() + \", Age: \" + person4.getAge() + \", Student: \" + person4.isStudent() + \", Height: \" + person4.getHeight());\n",
    "        System.out.println(\"Person 5 - Name: \" + person5.getName() + \", Age: \" + person5.getAge() + \", Student: \" + person5.isStudent() + \", Height: \" + person5.getHeight());\n",
    "    }\n",
    "}\n",
    "\n",
    "Person.main(null);"
   ]
  },
  {
   "cell_type": "markdown",
   "metadata": {},
   "source": [
    "## Hack 4"
   ]
  },
  {
   "cell_type": "code",
   "execution_count": 24,
   "metadata": {
    "vscode": {
     "languageId": "java"
    }
   },
   "outputs": [
    {
     "name": "stdout",
     "output_type": "stream",
     "text": [
      "Enter your full name: First Name: joe\n",
      "Last Name: joe\n"
     ]
    }
   ],
   "source": [
    "import java.util.Scanner;\n",
    "\n",
    "public class PersonName {\n",
    "    private String fullName;\n",
    "\n",
    "    public PersonName(String fullName) {\n",
    "        this.fullName = fullName;\n",
    "    }\n",
    "\n",
    "    // Method to get the first name\n",
    "    public String getFirstName() {\n",
    "        StringBuilder firstName = new StringBuilder();\n",
    "\n",
    "        // Iterate through each character in the full name\n",
    "        for (int i = 0; i < fullName.length(); i++) {\n",
    "            char c = fullName.charAt(i);\n",
    "\n",
    "            // Check if the current character is not a space\n",
    "            if (c != ' ') {\n",
    "                // Append the character to the first name\n",
    "                firstName.append(c);\n",
    "            } else {\n",
    "                // If a space is encountered, stop iterating (we've found the first name)\n",
    "                break;\n",
    "            }\n",
    "        }\n",
    "\n",
    "        // Convert the StringBuilder to a String and return the first name\n",
    "        return firstName.toString();\n",
    "    }\n",
    "\n",
    "    // Method to get the last name\n",
    "    public String getLastName() {\n",
    "        StringBuilder lastName = new StringBuilder();\n",
    "        boolean foundSpace = false;\n",
    "\n",
    "        // Iterate through each character in the full name in reverse order\n",
    "        for (int i = fullName.length() - 1; i >= 0; i--) {\n",
    "            char c = fullName.charAt(i);\n",
    "\n",
    "            // Check if the current character is not a space and we haven't found a space yet\n",
    "            if (c != ' ' && !foundSpace) {\n",
    "                // Insert the character at the beginning of the last name (to reverse the order)\n",
    "                lastName.insert(0, c);\n",
    "            } else {\n",
    "                // If a space is encountered or we've already found a space, set the flag to true\n",
    "                foundSpace = true;\n",
    "            }\n",
    "        }\n",
    "\n",
    "        // Convert the StringBuilder to a String and return the last name\n",
    "        return lastName.toString();\n",
    "    }\n",
    "\n",
    "    public static void main(String[] args) {\n",
    "        Scanner scanner = new Scanner(System.in);\n",
    "\n",
    "        // Prompt the user for their full name\n",
    "        System.out.print(\"Enter your full name: \");\n",
    "        String fullName = scanner.nextLine();\n",
    "\n",
    "        // Create a PersonName object with the user's input\n",
    "        PersonName person = new PersonName(fullName);\n",
    "\n",
    "        // Get and print the first name\n",
    "        String firstName = person.getFirstName();\n",
    "        System.out.println(\"First Name: \" + firstName);\n",
    "\n",
    "        // Get and print the last name\n",
    "        String lastName = person.getLastName();\n",
    "        System.out.println(\"Last Name: \" + lastName);\n",
    "\n",
    "        // Close the scanner\n",
    "        scanner.close();\n",
    "    }\n",
    "}\n",
    "PersonName.main(null);"
   ]
  }
 ],
 "metadata": {
  "kernelspec": {
   "display_name": "Java",
   "language": "java",
   "name": "java"
  },
  "language_info": {
   "codemirror_mode": "java",
   "file_extension": ".jshell",
   "mimetype": "text/x-java-source",
   "name": "Java",
   "pygments_lexer": "java",
   "version": "20.0.2+9"
  }
 },
 "nbformat": 4,
 "nbformat_minor": 2
}
