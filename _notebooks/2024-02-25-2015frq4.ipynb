{
 "cells": [
  {
   "cell_type": "markdown",
   "metadata": {},
   "source": [
    "---\n",
    "comments: true\n",
    "layout: posts\n",
    "title: 2015 Practice Exam FRQ 4\n",
    "type: hacks\n",
    "permalink: /2015frq4\n",
    "toc: true\n",
    "courses: {'csa': {'week': 21}}\n",
    "---"
   ]
  },
  {
   "cell_type": "markdown",
   "metadata": {},
   "source": [
    "Directions: SHOW ALL YOUR WORK. REMEMBER THAT PROGRAM SEGMENTS ARE TO BE WRITTEN IN JAVA.\n",
    "\n",
    "Notes:\n",
    " \n",
    "\n",
    "Assume that the classes listed in the Java Quick Reference have been imported where appropriate.\n",
    "\n",
    "Unless otherwise noted in the question, assume that parameters in method calls are not null and that methods are called only when their preconditions are satisfied.\n",
    "\n",
    "In writing solutions for each question, you may use any of the accessible methods that are listed in classes defined in that question. Writing significant amounts of code that can be replaced by a call to one of these methods will not receive full credit.\n",
    "\n",
    "This question involves the design of an interface, writing a class that implements the interface, and writing a method that uses the interface.\n",
    "\n",
    "(a) A number group represents a group of integers defined in some way. It could be empty, or it could contain one or more integers.\n",
    "\n",
    "Write an interface named NumberGroup that represents a group of integers. The interface should have a single contains method that determines if a given integer is in the group. For example, if group1 is of type NumberGroup, and it contains only the two numbers -5 and 3, then group1.contains(-5) would return true, and group1.contains(2) would return false.\n",
    "Write the complete NumberGroup interface. It must have exactly one method.\n",
    "\n",
    "\n",
    " "
   ]
  },
  {
   "cell_type": "code",
   "execution_count": 1,
   "metadata": {},
   "outputs": [],
   "source": [
    "public interface NumberGroup {\n",
    "    public boolean contains(int num); // single method\n",
    "}"
   ]
  },
  {
   "cell_type": "markdown",
   "metadata": {},
   "source": [
    "(b) A range represents a number group that contains all (and only) the integers between a minimum value and a maximum value, inclusive.\n",
    "Write the Range class, which is a NumberGroup. The Range class represents the group of int values that range from a given minimum value up through a given maximum value, inclusive. For example,the declaration\n",
    "\n",
    "NumberGroup range1 = new Range(-3, 2);\n",
    "\n",
    "\n",
    " \n",
    "\n",
    "represents the group of integer values -3, -2, -1, 0, 1, 2.\n",
    "\n",
    "Write the complete Range class. Include all necessary instance variables and methods as well as a constructor that takes two int parameters. The first parameter represents the minimum value, and the second parameter represents the maximum value of the range. You may assume that the minimum is less than or equal to the maximum.\n"
   ]
  },
  {
   "cell_type": "code",
   "execution_count": 5,
   "metadata": {},
   "outputs": [
    {
     "name": "stdout",
     "output_type": "stream",
     "text": [
      "Testing 1: true\n",
      "Testing 10: false\n"
     ]
    }
   ],
   "source": [
    "public class Range implements NumberGroup {\n",
    "    private int min;\n",
    "    private int max;\n",
    "\n",
    "    public Range(int min, int max) {\n",
    "        this.min = min;\n",
    "        this.max = max;\n",
    "    }\n",
    "\n",
    "    @Override // overriding the method with a new one\n",
    "    public boolean contains(int num) {\n",
    "        return (num >= min && num <= max); // only returns true if num is greater than min or less than max (within range)\n",
    "    }\n",
    "\n",
    "    public static void main(String[] args) {\n",
    "        Range range = new Range(-3, 2);\n",
    "\n",
    "        System.out.println(\"Testing 1: \" + range.contains(1));\n",
    "        System.out.println(\"Testing 10: \" + range.contains(10));\n",
    "    }\n",
    "}\n",
    "\n",
    "Range.main(null);"
   ]
  },
  {
   "cell_type": "markdown",
   "metadata": {},
   "source": [
    "\n",
    "(c) The MultipleGroups class (not shown) represents a collection of NumberGroup objects and isa NumberGroup. The MultipleGroups class stores the number groups in the instance variable groupList (shown below), which is initialized in the constructor.\n",
    "\n",
    "private List<NumberGroup> groupList;\n",
    "\n",
    "Write the MultipleGroups method contains. The method takes an integer and returns true if and only if the integer is contained in one or more of the number groups in groupList.\n",
    "\n",
    "For example, suppose multiple1 has been declared as an instance of MultipleGroups and consists of the three ranges created by the calls new Range(5, 8), new Range(10, 12), and new Range(1, 6). The following table shows the results of several calls to contains.\n",
    "\n",
    "![](./images/frq18.png)\n",
    "![](./images/frq19.png)"
   ]
  },
  {
   "cell_type": "code",
   "execution_count": 6,
   "metadata": {},
   "outputs": [
    {
     "name": "stdout",
     "output_type": "stream",
     "text": [
      "Testing 2: true\n",
      "Testing 9: false\n",
      "Testing 6: true\n"
     ]
    }
   ],
   "source": [
    "public class MultipleGroups implements NumberGroup {\n",
    "    private List<NumberGroup> groupList;\n",
    "\n",
    "    public MultipleGroups(List<NumberGroup> groupList) {\n",
    "        this.groupList = groupList;\n",
    "    }\n",
    "\n",
    "    @Override\n",
    "    public boolean contains(int num) { // new method to new \n",
    "        for (int i = 0; i < this.groupList.size(); i++) { // looks through each of the group lists\n",
    "            if (this.groupList.get(i).contains(num)) { // if the number happens to be in one of the group lists, true is returned\n",
    "                return true;\n",
    "            }\n",
    "        }\n",
    "        return false;\n",
    "    }\n",
    "\n",
    "    public static void main(String[] args) {\n",
    "        // creating multiple groups\n",
    "        Range r1 = new Range(5, 8);\n",
    "        Range r2 = new Range(10, 12);\n",
    "        Range r3 = new Range(1, 6);\n",
    "\n",
    "        // adding all the groups to a group list\n",
    "        ArrayList<NumberGroup> groupList = new ArrayList<>();\n",
    "        groupList.add(r1);\n",
    "        groupList.add(r2);\n",
    "        groupList.add(r3);\n",
    "\n",
    "        // creating a new instance of the group list\n",
    "        MultipleGroups multiple1 = new MultipleGroups(groupList);\n",
    "\n",
    "        // checking different cases to see if they are within the ranges provided\n",
    "        System.out.println(\"Testing 2: \" + multiple1.contains(2));\n",
    "        System.out.println(\"Testing 9: \" + multiple1.contains(9));\n",
    "        System.out.println(\"Testing 6: \" + multiple1.contains(6));\n",
    "    }\n",
    "}\n",
    "\n",
    "MultipleGroups.main(null);"
   ]
  }
 ],
 "metadata": {
  "kernelspec": {
   "display_name": "Java",
   "language": "java",
   "name": "java"
  },
  "language_info": {
   "codemirror_mode": "java",
   "file_extension": ".jshell",
   "mimetype": "text/x-java-source",
   "name": "java",
   "pygments_lexer": "java",
   "version": "11.0.22+7-post-Ubuntu-0ubuntu222.04.1"
  }
 },
 "nbformat": 4,
 "nbformat_minor": 2
}
