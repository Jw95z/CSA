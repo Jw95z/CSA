{
 "cells": [
  {
   "cell_type": "markdown",
   "metadata": {},
   "source": [
    "---\n",
    "comments: true\n",
    "layout: posts\n",
    "title: Individual Seed\n",
    "type: hacks\n",
    "permalink: /indivseed\n",
    "toc: true\n",
    "courses: {'csa': {'week': 24}}\n",
    "---"
   ]
  },
  {
   "cell_type": "markdown",
   "metadata": {},
   "source": [
    "## Debugging Event "
   ]
  },
  {
   "cell_type": "markdown",
   "metadata": {},
   "source": [
    "## Individual Work\n",
    "[] 93% or better in last trimester of AP CSA\n",
    "\n",
    "\n",
    "### Github Analytics/Commits\n",
    "\n",
    "Frontend Insights\n",
    "![](./images/frontendContri.png)\n",
    "\n",
    "Backend Insights\n",
    "![](./images/backendContri.png)\n",
    "\n",
    "GitHub Commits\n",
    "![](./images/commit.png)\n",
    "\n",
    "- [X] [CSA Blog](https://jw95z.github.io/CSA/weeks)\n",
    "\n",
    "- [X] [CSA-AI project line](https://github.com/orgs/CSA-AI/projects/1)\n"
   ]
  },
  {
   "cell_type": "code",
   "execution_count": null,
   "metadata": {},
   "outputs": [],
   "source": [
    "\n"
   ]
  }
 ],
 "metadata": {
  "language_info": {
   "name": "python"
  }
 },
 "nbformat": 4,
 "nbformat_minor": 2
}
