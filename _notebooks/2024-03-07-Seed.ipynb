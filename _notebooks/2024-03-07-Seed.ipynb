{
 "cells": [
  {
   "cell_type": "markdown",
   "metadata": {},
   "source": [
    "---\n",
    "comments: true\n",
    "layout: posts\n",
    "title: Individual Seed\n",
    "type: hacks\n",
    "permalink: /indivseed\n",
    "toc: true\n",
    "courses: {'csa': {'week': 24}}\n",
    "---"
   ]
  },
  {
   "cell_type": "markdown",
   "metadata": {},
   "source": [
    "## Debugging Event "
   ]
  },
  {
   "cell_type": "markdown",
   "metadata": {},
   "source": [
    "## Individual Work\n",
    "[] 93% or better in last trimester of AP CSA\n",
    "![](./images/grade.png)\n",
    "\n",
    "### AP preparation progress\n",
    "This is my first AP test taking in high school. I'm nervous because I am not sure what I will get, but I am trying to buy a book and focus on college board question to prepare for my AP test. This year, I am continuing to complete the work given by Mr. Mortensen and checking for which units I need most help on, then taking notes. Finally, I review the units using the AP textbook that I have at home.\n",
    "\n",
    "#### AP Work\n",
    "|key|value|\n",
    "|---|---|\n",
    "|Name|James Lee|\n",
    "|Frq1|[Solution](https://jw95z.github.io/CSA/2015frq1)|\n",
    "|Frq2|[Solution](https://jw95z.github.io/CSA/2015frq2)|\n",
    "|Frq3|[Solution](https://jw95z.github.io/CSA/2015frq3)|\n",
    "|Frq4|[Solution](https://jw95z.github.io/CSA/2015frq4)|\n",
    "|Issue|[Connection](https://github.com/Jw95z/CSA/issues/5)|\n",
    "\n",
    "### Github Analytics/Commits\n",
    "\n",
    "Frontend Insights\n",
    "![](./images/frontendContri.png)\n",
    "\n",
    "Backend Insights\n",
    "![](./images/backendContri.png)\n",
    "\n",
    "GitHub Commits\n",
    "![](./images/commit.png)\n",
    "\n",
    "- [X] [CSA Blog](https://jw95z.github.io/CSA/weeks)\n",
    "\n",
    "- [X] [CSA-AI project line](https://github.com/orgs/CSA-AI/projects/1)\n"
   ]
  },
  {
   "cell_type": "code",
   "execution_count": null,
   "metadata": {},
   "outputs": [],
   "source": [
    "\n"
   ]
  }
 ],
 "metadata": {
  "language_info": {
   "name": "python"
  }
 },
 "nbformat": 4,
 "nbformat_minor": 2
}
