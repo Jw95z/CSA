{
 "cells": [
  {
   "cell_type": "markdown",
   "metadata": {},
   "source": [
    "---\n",
    "comments: true\n",
    "layout: posts\n",
    "title: Question 4\n",
    "type: hacks\n",
    "permalink: q4\n",
    "toc: true\n",
    "courses: {'csa': {'week': 27}}\n",
    "---"
   ]
  },
  {
   "cell_type": "markdown",
   "metadata": {},
   "source": [
    "## Question 4: Math Class (Unit 2)\n",
    "\n",
    "Situation: You are developing a scientific calculator application where users need to perform various mathematical operations.\n",
    "\n",
    "### Part (a)\n",
    "\n",
    "- (a) Discuss the purpose and utility of the Math class in Java programming. Provide examples of at least three methods provided by the Math class and explain their usage.\n",
    "\n",
    "#### Answer (a)\n",
    "the Math class serves as a utility class for performing mathematical operations. Its purpose is to provide commonly used mathematical functions and constants, allowing developers to perform various calculations without having to implement them from scratch. Here's a breakdown of its purpose and utility\n",
    "1. pow --> used like pow(double a, double b) --> Returns a raised to the power of b.\n",
    "2. random --> used like random() --> Returns a double value greater than or equal to 0.0 and less than 1.0\n",
    "3. round --> round the number to make it Integer\n",
    "\n",
    "#### Extra"
   ]
  },
  {
   "cell_type": "code",
   "execution_count": null,
   "metadata": {
    "vscode": {
     "languageId": "java"
    }
   },
   "outputs": [],
   "source": [
    "double a2 = Math.log(Math.E); //1.0\n",
    "double b2 = Math.log10(1000); //3.0\n",
    "\n",
    "double e = Math.E;//2.718281828459045"
   ]
  },
  {
   "cell_type": "code",
   "execution_count": null,
   "metadata": {
    "vscode": {
     "languageId": "java"
    }
   },
   "outputs": [],
   "source": []
  },
  {
   "cell_type": "markdown",
   "metadata": {},
   "source": [
    "### Part (b)\n",
    "- (b) Code: You need to implement a method calculateSquareRoot that takes a double number as input and returns its square root using the Math class. Write the method signature and the method implementation. Include comments to explain your code.\n",
    "\n",
    "#### Answer (b)"
   ]
  },
  {
   "cell_type": "code",
   "execution_count": 8,
   "metadata": {
    "vscode": {
     "languageId": "java"
    }
   },
   "outputs": [
    {
     "name": "stdout",
     "output_type": "stream",
     "text": [
      "Square root is: 4.0\n"
     ]
    }
   ],
   "source": [
    "// Define a class named \"calculatesquareRoot\" to calculate the square root of a given number.\n",
    "public class calculatesquareRoot {\n",
    "    // Define a method named \"return\" to return the square root of a given number.\n",
    "    public static double return1(double number) {\n",
    "        return Math.sqrt(number);\n",
    "    }\n",
    "    \n",
    "    // Define the main method to test the \"return\" method by calculating the square root of 16.\n",
    "    public static void main(String[] args) {\n",
    "        // Call the \"return\" method to calculate the square root of 16 and store the result.\n",
    "        double result = return1(16.0);\n",
    "        // Print the calculated square root.\n",
    "        System.out.println(\"Square root is: \" + result);\n",
    "    }\n",
    "}\n",
    "calculatesquareRoot.main(null);\n"
   ]
  },
  {
   "cell_type": "markdown",
   "metadata": {},
   "source": [
    "## Connection with the java backend"
   ]
  },
  {
   "cell_type": "code",
   "execution_count": 6,
   "metadata": {
    "vscode": {
     "languageId": "java"
    }
   },
   "outputs": [
    {
     "name": "stdout",
     "output_type": "stream",
     "text": [
      "Squirrels: 9 Days: 10\n",
      "Squirrels: 11 Days: 11\n",
      "Squirrels: 12 Days: 19\n",
      "Squirrels: 14 Days: 14\n",
      "Squirrels: 14 Days: 15\n",
      "Squirrels: 15 Days: 18\n",
      "Squirrels: 19 Days: 12\n",
      "Squirrels: 25 Days: 16\n",
      "Squirrels: 31 Days: 13\n",
      "Squirrels: 36 Days: 17\n",
      "Total random squirrels: 186, Number of days: 10\n",
      "Average squirrels per day: 19\n"
     ]
    }
   ],
   "source": [
    "public class Number {\n",
    "    private String title = \"Number\";\n",
    "    private String counter = \"Index\";\n",
    "    private static int COUNT = 0;\n",
    "    private final int number;\n",
    "    private final int index;\n",
    "\n",
    "    // Number has a zero Argument constructor\n",
    "    // It initializes a random number between 3 and 36, ie the number of squirrels in class\n",
    "    public Number() {\n",
    "        int SIZE = 36; int MIN = 3; int RANGE = SIZE - MIN + 1;  // constants for initialization\n",
    "        this.number = (int)(Math.random()*RANGE) + MIN;  // observe RANGE calculation and MIN offset\n",
    "        this.index = Number.COUNT++;    // observe use of Class variable COUNT and post increment\n",
    "    }\n",
    "\n",
    "    // It contains a getter for the Random Number\n",
    "    public int getNumber() {\n",
    "        return this.number;\n",
    "    }\n",
    "\n",
    "    // It contains a getter for Index, or the order it was initialized\n",
    "    public int getIndex() {\n",
    "        return this.index;\n",
    "    }\n",
    "\n",
    "    // Make a setter to title the Random Number\n",
    "    public void setTitle(String title) { this.title = title; }\n",
    "\n",
    "    // Make a setter to name the Counter\n",
    "    public void setCounter(String counter) { this.counter = counter; }\n",
    "\n",
    "    // toString method for formatted output, this was not in requirement but is critical knowledge\n",
    "    public String toString() {\n",
    "        return this.title + \": \" + this.getNumber() + \" \" + this.counter + \": \" + this.getIndex();\n",
    "    }\n",
    "\n",
    "    // Write a tester method\n",
    "    public static void main(String[] args) {\n",
    "\n",
    "        // Create an ArrayList of Type Number, the ArrayList is called squirrels\n",
    "        ArrayList<Number> squirrels = new ArrayList<>();\n",
    "\n",
    "        // Initialize 10 squirrels of class type Number\n",
    "        // Insert Number Object into ArrayList Squirrels in least to the greatest order using getNumber()\n",
    "        final int SQUIRRELS = 10;\n",
    "        for (int i = 0; i < SQUIRRELS; i++) {\n",
    "            Number num = new Number();\n",
    "            num.setTitle(\"Squirrels\");\n",
    "            num.setCounter(\"Days\");\n",
    "            // Insert in ordered position, this avoids sort algorithm\n",
    "            for (int j = 0; true; j++) {\n",
    "                // Conditions to insert\n",
    "                if ((squirrels.size() == j) // empty or at end of list\n",
    "                        || (num.getNumber() < squirrels.get(j).getNumber()) )  // less than current\n",
    "                {\n",
    "                    /* The java.util.ArrayList.add(int index, Object)\n",
    "                       method inserts the specified object at the specified position in this list.\n",
    "                       This is overload of the common java.util.ArrayList.add(Object)\n",
    "                    */\n",
    "                    squirrels.add(j, num); // insert in \"j\" position\n",
    "                    break;  // break forever loop when inserted\n",
    "                }\n",
    "            }\n",
    "        }\n",
    "\n",
    "        // Added total/average, not in requirements\n",
    "        int total = 0;\n",
    "        for (Number squirrel : squirrels) {\n",
    "            // Print a formatted message with number of Squirrels and Index\n",
    "            System.out.println(squirrel);  // prints Object using toString() method\n",
    "            total += squirrel.getNumber(); // running total, not in requirements\n",
    "        }\n",
    "        // Integer division requires cast for precision\n",
    "        System.out.println(\"Total random squirrels: \" + total + \", Number of days: \" + squirrels.size());\n",
    "        System.out.println(\"Average squirrels per day: \" + Math.round(total / (double) squirrels.size()));\n",
    "    }\n",
    "\n",
    "}\n",
    "Number.main(null);\n",
    "\n"
   ]
  }
 ],
 "metadata": {
  "kernelspec": {
   "display_name": "Java",
   "language": "java",
   "name": "java"
  },
  "language_info": {
   "codemirror_mode": "java",
   "file_extension": ".jshell",
   "mimetype": "text/x-java-source",
   "name": "Java",
   "pygments_lexer": "java",
   "version": "11.0.22+7-post-Ubuntu-0ubuntu222.04.1"
  }
 },
 "nbformat": 4,
 "nbformat_minor": 2
}
