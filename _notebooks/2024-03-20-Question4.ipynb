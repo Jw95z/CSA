{
 "cells": [
  {
   "cell_type": "markdown",
   "metadata": {},
   "source": [
    "---\n",
    "comments: true\n",
    "layout: posts\n",
    "title: Question 4\n",
    "type: hacks\n",
    "permalink: /q4\n",
    "toc: true\n",
    "courses: {'csa': {'week': 27}}\n",
    "---"
   ]
  },
  {
   "cell_type": "markdown",
   "metadata": {},
   "source": [
    "## Question 4: Math Class (Unit 2)\n",
    "\n",
    "Situation: You are developing a scientific calculator application where users need to perform various mathematical operations.\n",
    "\n",
    "### Part (a)\n",
    "\n",
    "- (a) Discuss the purpose and utility of the Math class in Java programming. Provide examples of at least three methods provided by the Math class and explain their usage.\n",
    "\n",
    "#### Answer (a)\n",
    "To use calculus \n",
    "\n",
    "1. pow\n",
    "2. random\n",
    "3. random\n",
    "\n",
    "### Part (b)\n",
    "- (b) Code: You need to implement a method calculateSquareRoot that takes a double number as input and returns its square root using the Math class. Write the method signature and the method implementation. Include comments to explain your code.\n",
    "\n",
    "#### Answer (b)"
   ]
  },
  {
   "cell_type": "code",
   "execution_count": 7,
   "metadata": {
    "vscode": {
     "languageId": "java"
    }
   },
   "outputs": [
    {
     "name": "stdout",
     "output_type": "stream",
     "text": [
      "Square root of 16 is: 4.0\n"
     ]
    }
   ],
   "source": [
    "// Define a class named \"calculatesquareRoot\" to calculate the square root of a given number.\n",
    "public class calculatesquareRoot {\n",
    "    // Define a method named \"return\" to return the square root of a given number.\n",
    "    public double return(double number) {\n",
    "        return Math.sqrt(number);\n",
    "    }\n",
    "    \n",
    "    // Define the main method to test the \"return\" method by calculating the square root of 16.\n",
    "    public static void main(String[] args) {\n",
    "        // Create an instance of the \"calculatesquareRoot\" class.\n",
    "        calculatesquareRoot calculator = new calculatesquareRoot();\n",
    "        // Call the \"return\" method to calculate the square root of 16 and store the result.\n",
    "        double result = calculator.return(16);\n",
    "        // Print the calculated square root.\n",
    "        System.out.println(\"Square root is: \" + result);\n",
    "    }\n",
    "}\n",
    "calculatesquareRoot.main(null);\n"
   ]
  }
 ],
 "metadata": {
  "kernelspec": {
   "display_name": "Java",
   "language": "java",
   "name": "java"
  },
  "language_info": {
   "codemirror_mode": "java",
   "file_extension": ".jshell",
   "mimetype": "text/x-java-source",
   "name": "Java",
   "pygments_lexer": "java",
   "version": "11.0.22+7-post-Ubuntu-0ubuntu222.04.1"
  }
 },
 "nbformat": 4,
 "nbformat_minor": 2
}
