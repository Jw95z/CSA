{
 "cells": [
  {
   "cell_type": "markdown",
   "metadata": {},
   "source": [
    "---\n",
    "comments: true\n",
    "layout: posts\n",
    "title: Question 1\n",
    "type: hacks\n",
    "permalink: q1\n",
    "toc: true\n",
    "courses: {'csa': {'week': 27}}\n",
    "---"
   ]
  },
  {
   "cell_type": "markdown",
   "metadata": {},
   "source": [
    "## Question 1\n",
    "(a) Definitions and Examples\n",
    "In Java, there are two types of data types: primitive types and reference types.\n",
    "\n",
    "Primitive types are the basic types of data. They store simple values directly in the location they occupy in memory. Java has 8 primitive types: byte, short, int, long, float, double, boolean, and char. For example, int age = 30; is a primitive type storing the integer value 30.\n",
    "\n",
    "Reference types store references (or addresses) to the actual data. The reference points to a location in memory where the data is stored. Classes, interfaces, arrays, and enums are reference types. An example of a reference type is String name = \"John Doe\"; where name is a reference to a string object stored in memory.\n",
    "\n",
    "(b) Memory Allocation and Usage\n",
    "Primitive types are stored in the stack memory, which allows for fast access but has limited size. Each variable directly contains its value, and when you assign it to another variable, a fresh copy of the value is created and stored.\n",
    "\n",
    "Reference types are stored in the heap memory, which is used for dynamic memory allocation where the size of the memory needed doesn't need to be known before runtime. When you assign a reference type to another variable, both variables now point to the same data in memory rather than creating a new copy. If you modify the data using one reference, the change is visible through all references.\n",
    "\n",
    "## Code"
   ]
  },
  {
   "cell_type": "code",
   "execution_count": 1,
   "metadata": {
    "vscode": {
     "languageId": "java"
    }
   },
   "outputs": [],
   "source": [
    "class Customer {\n",
    "    // Assume other properties like name, ID, etc., are defined here\n",
    "}\n",
    "\n",
    "public class BankingApplication {\n",
    "    /**\n",
    "     * Calculates the interest for a given principal amount for a customer.\n",
    "     *\n",
    "     * @param principal The principal amount.\n",
    "     * @param customer  The customer for whom the interest is calculated.\n",
    "     * @return The interest amount calculated.\n",
    "     */\n",
    "    public double calculateInterest(double principal, Customer customer) {\n",
    "        // Assuming a fixed interest rate of 5%\n",
    "        final double interestRate = 0.05;\n",
    "        double interest = principal * interestRate;\n",
    "        \n",
    "        // Further processing with the customer information if necessary\n",
    "        \n",
    "        return interest;\n",
    "    }\n",
    "}\n",
    "\n",
    "\n"
   ]
  },
  {
   "cell_type": "markdown",
   "metadata": {},
   "source": [
    "## Question 2\n",
    "(a) Concept and Example Scenario\n",
    "Iterating over a 2D array involves traversing the array row by row (or column by column) and accessing each element individually. A common use case for 2D arrays is representing matrices, grids, or any situation where you need a row and column structure. For instance, in a game development context, a 2D array can represent a game board or grid where each cell holds information like player scores across different levels and attempts.\n",
    "\n",
    "## Code"
   ]
  },
  {
   "cell_type": "code",
   "execution_count": 2,
   "metadata": {
    "vscode": {
     "languageId": "java"
    }
   },
   "outputs": [],
   "source": [
    "public class GameApplication {\n",
    "    /**\n",
    "     * Calculates the total score from a 2D array of scores.\n",
    "     *\n",
    "     * @param scores The 2D array containing player scores.\n",
    "     * @return The total sum of all scores.\n",
    "     */\n",
    "    public int calculateTotalScore(int[][] scores) {\n",
    "        int totalScore = 0;\n",
    "        \n",
    "        // Iterate over each row\n",
    "        for (int i = 0; i < scores.length; i++) {\n",
    "            // Iterate over each column in the row\n",
    "            for (int j = 0; j < scores[i].length; j++) {\n",
    "                totalScore += scores[i][j]; // Add the score to the total\n",
    "            }\n",
    "        }\n",
    "        \n",
    "        return totalScore;\n",
    "    }\n",
    "}\n"
   ]
  },
  {
   "cell_type": "markdown",
   "metadata": {},
   "source": [
    "## Hacks for Monday"
   ]
  },
  {
   "cell_type": "code",
   "execution_count": 6,
   "metadata": {
    "vscode": {
     "languageId": "java"
    }
   },
   "outputs": [
    {
     "ename": "UnresolvedReferenceException",
     "evalue": "Attempt to use definition snippet with unresolved references in Snippet:ClassKey(StackHeapTest)#15-public class StackHeapTest {\n    public int n = 5; // primitive data type on the heap\n    public static void changeInt(int nValue, int nRefN, StackHeapTest nRef){\n        System.out.println(\"PRE-CHANGE: ===============\");\n        System.out.println(\"nValue : \" + nValue);\n        System.out.println(\"nRefn  : \" + nRefn);\n        System.out.println(\"nRef.n : \" + nRef.n);\n\n        nValue += 10;\n        nRefn += 10;\n        nRef.n += 10;\n\n        System.out.println(\"POST-CHANGE: ==============\");\n        System.out.println(\"nValue : \" + nValue);\n        System.out.println(\"nRefn  : \" + nRefn);\n        System.out.println(\"nRef.n : \" + nRef.n);\n    }\n    \n    public static void main(String[] args){\n        int n = 5; // primitive data type on the stack\n        StackHeapTest nRef = new StackHeapTest();\n\n        System.out.println(\"PRE-METHOD: ===============\");\n        System.out.println(\"n      : \" + n);\n        System.out.println(\"Hash for n  : \" + System.identityHashCode(n));\n        System.out.println(\"nRef   : \" + nRef);\n        System.out.println(\"Hash  for nRef : \" + System.identityHashCode(nRef));\n        System.out.println(\"nRef.n : \" + nRef.n);\n        System.out.println(\"Hash for nRef.n  : \" + System.identityHashCode(nRef.n));\n\n        changeInt(n, nRef.n, nRef); // stack by value, heap by value, heap by reference\n\n        System.out.println(\"POST-METHOD: ===============\");\n        System.out.println(\"n      : \" + n);\n        System.out.println(\"Hash for n  : \" + System.identityHashCode(n));\n        System.out.println(\"nRef   : \" + nRef);\n        System.out.println(\"Hash  for nRef : \" + System.identityHashCode(nRef));\n        System.out.println(\"nRef.n : \" + nRef.n);\n        System.out.println(\"Hash for nRef.n  : \" + System.identityHashCode(nRef.n));\n\n    }\n}",
     "output_type": "error",
     "traceback": [
      "\u001b[1m\u001b[30m|   \u001b[1m\u001b[30mpublic class StackHeapTest {\u001b[0m",
      "\u001b[1m\u001b[30m|   \u001b[1m\u001b[30m    public int n = 5; // primitive data type on the heap\u001b[0m",
      "\u001b[1m\u001b[30m|   \u001b[1m\u001b[30m    public static void changeInt(int nValue, int nRefN, StackHeapTest nRef){\u001b[0m",
      "\u001b[1m\u001b[30m|   \u001b[1m\u001b[30m        System.out.println(\"PRE-CHANGE: ===============\");\u001b[0m",
      "\u001b[1m\u001b[30m|   \u001b[1m\u001b[30m        System.out.println(\"nValue : \" + nValue);\u001b[0m",
      "\u001b[1m\u001b[30m|   \u001b[1m\u001b[30m        System.out.println(\"nRefn  : \" + nRefn);\u001b[0m",
      "\u001b[1m\u001b[30m|   \u001b[1m\u001b[30m        System.out.println(\"nRef.n : \" + nRef.n);\u001b[0m",
      "\u001b[1m\u001b[30m|   \u001b[1m\u001b[30m\u001b[0m",
      "\u001b[1m\u001b[30m|   \u001b[1m\u001b[30m        nValue += 10;\u001b[0m",
      "\u001b[1m\u001b[30m|   \u001b[1m\u001b[30m        nRefn += 10;\u001b[0m",
      "\u001b[1m\u001b[30m|   \u001b[1m\u001b[30m        nRef.n += 10;\u001b[0m",
      "\u001b[1m\u001b[30m|   \u001b[1m\u001b[30m\u001b[0m",
      "\u001b[1m\u001b[30m|   \u001b[1m\u001b[30m        System.out.println(\"POST-CHANGE: ==============\");\u001b[0m",
      "\u001b[1m\u001b[30m|   \u001b[1m\u001b[30m        System.out.println(\"nValue : \" + nValue);\u001b[0m",
      "\u001b[1m\u001b[30m|   \u001b[1m\u001b[30m        System.out.println(\"nRefn  : \" + nRefn);\u001b[0m",
      "\u001b[1m\u001b[30m|   \u001b[1m\u001b[30m        System.out.println(\"nRef.n : \" + nRef.n);\u001b[0m",
      "\u001b[1m\u001b[30m|   \u001b[1m\u001b[30m    }\u001b[0m",
      "\u001b[1m\u001b[30m|   \u001b[1m\u001b[30m    \u001b[0m",
      "\u001b[1m\u001b[30m|   \u001b[1m\u001b[30m    public static void main(String[] args){\u001b[0m",
      "\u001b[1m\u001b[30m|   \u001b[1m\u001b[30m        int n = 5; // primitive data type on the stack\u001b[0m",
      "\u001b[1m\u001b[30m|   \u001b[1m\u001b[30m        StackHeapTest nRef = new StackHeapTest();\u001b[0m",
      "\u001b[1m\u001b[30m|   \u001b[1m\u001b[30m\u001b[0m",
      "\u001b[1m\u001b[30m|   \u001b[1m\u001b[30m        System.out.println(\"PRE-METHOD: ===============\");\u001b[0m",
      "\u001b[1m\u001b[30m|   \u001b[1m\u001b[30m        System.out.println(\"n      : \" + n);\u001b[0m",
      "\u001b[1m\u001b[30m|   \u001b[1m\u001b[30m        System.out.println(\"Hash for n  : \" + System.identityHashCode(n));\u001b[0m",
      "\u001b[1m\u001b[30m|   \u001b[1m\u001b[30m        System.out.println(\"nRef   : \" + nRef);\u001b[0m",
      "\u001b[1m\u001b[30m|   \u001b[1m\u001b[30m        System.out.println(\"Hash  for nRef : \" + System.identityHashCode(nRef));\u001b[0m",
      "\u001b[1m\u001b[30m|   \u001b[1m\u001b[30m        System.out.println(\"nRef.n : \" + nRef.n);\u001b[0m",
      "\u001b[1m\u001b[30m|   \u001b[1m\u001b[30m        System.out.println(\"Hash for nRef.n  : \" + System.identityHashCode(nRef.n));\u001b[0m",
      "\u001b[1m\u001b[30m|   \u001b[1m\u001b[30m\u001b[0m",
      "\u001b[1m\u001b[30m|   \u001b[1m\u001b[30m        changeInt(n, nRef.n, nRef); // stack by value, heap by value, heap by reference\u001b[0m",
      "\u001b[1m\u001b[30m|   \u001b[1m\u001b[30m\u001b[0m",
      "\u001b[1m\u001b[30m|   \u001b[1m\u001b[30m        System.out.println(\"POST-METHOD: ===============\");\u001b[0m",
      "\u001b[1m\u001b[30m|   \u001b[1m\u001b[30m        System.out.println(\"n      : \" + n);\u001b[0m",
      "\u001b[1m\u001b[30m|   \u001b[1m\u001b[30m        System.out.println(\"Hash for n  : \" + System.identityHashCode(n));\u001b[0m",
      "\u001b[1m\u001b[30m|   \u001b[1m\u001b[30m        System.out.println(\"nRef   : \" + nRef);\u001b[0m",
      "\u001b[1m\u001b[30m|   \u001b[1m\u001b[30m        System.out.println(\"Hash  for nRef : \" + System.identityHashCode(nRef));\u001b[0m",
      "\u001b[1m\u001b[30m|   \u001b[1m\u001b[30m        System.out.println(\"nRef.n : \" + nRef.n);\u001b[0m",
      "\u001b[1m\u001b[30m|   \u001b[1m\u001b[30m        System.out.println(\"Hash for nRef.n  : \" + System.identityHashCode(nRef.n));\u001b[0m",
      "\u001b[1m\u001b[30m|   \u001b[1m\u001b[30m\u001b[0m",
      "\u001b[1m\u001b[30m|   \u001b[1m\u001b[30m    }\u001b[0m",
      "\u001b[1m\u001b[30m|   \u001b[1m\u001b[30m}\u001b[0m",
      "\u001b[1m\u001b[31mUnresolved dependencies:\u001b[0m",
      "\u001b[1m\u001b[31m   - variable nRefn\u001b[0m"
     ]
    }
   ],
   "source": [
    "public class StackHeapTest {\n",
    "    public int n = 5; // primitive data type on the heap\n",
    "    public static void changeInt(int nValue, int nRefN, StackHeapTest nRef){\n",
    "        System.out.println(\"PRE-CHANGE: ===============\");\n",
    "        System.out.println(\"nValue : \" + nValue);\n",
    "        System.out.println(\"nRefn  : \" + nRefn);\n",
    "        System.out.println(\"nRef.n : \" + nRef.n);\n",
    "\n",
    "        nValue += 10;\n",
    "        nRefn += 10;\n",
    "        nRef.n += 10;\n",
    "\n",
    "        System.out.println(\"POST-CHANGE: ==============\");\n",
    "        System.out.println(\"nValue : \" + nValue);\n",
    "        System.out.println(\"nRefn  : \" + nRefn);\n",
    "        System.out.println(\"nRef.n : \" + nRef.n);\n",
    "    }\n",
    "    \n",
    "    public static void main(String[] args){\n",
    "        int n = 5; // primitive data type on the stack\n",
    "        StackHeapTest nRef = new StackHeapTest();\n",
    "\n",
    "        System.out.println(\"PRE-METHOD: ===============\");\n",
    "        System.out.println(\"n      : \" + n);\n",
    "        System.out.println(\"Hash for n  : \" + System.identityHashCode(n));\n",
    "        System.out.println(\"nRef   : \" + nRef);\n",
    "        System.out.println(\"Hash  for nRef : \" + System.identityHashCode(nRef));\n",
    "        System.out.println(\"nRef.n : \" + nRef.n);\n",
    "        System.out.println(\"Hash for nRef.n  : \" + System.identityHashCode(nRef.n));\n",
    "\n",
    "        changeInt(n, nRef.n, nRef); // stack by value, heap by value, heap by reference\n",
    "\n",
    "        System.out.println(\"POST-METHOD: ===============\");\n",
    "        System.out.println(\"n      : \" + n);\n",
    "        System.out.println(\"Hash for n  : \" + System.identityHashCode(n));\n",
    "        System.out.println(\"nRef   : \" + nRef);\n",
    "        System.out.println(\"Hash  for nRef : \" + System.identityHashCode(nRef));\n",
    "        System.out.println(\"nRef.n : \" + nRef.n);\n",
    "        System.out.println(\"Hash for nRef.n  : \" + System.identityHashCode(nRef.n));\n",
    "\n",
    "    }\n",
    "}\n",
    "\n",
    "StackHeapTest.main(null)"
   ]
  },
  {
   "cell_type": "code",
   "execution_count": 12,
   "metadata": {
    "vscode": {
     "languageId": "java"
    }
   },
   "outputs": [
    {
     "name": "stdout",
     "output_type": "stream",
     "text": [
      "a\n",
      "Original String: abc\n",
      "Modified String: Abc\n"
     ]
    }
   ],
   "source": [
    "public class Main {\n",
    "    public static void main(String[] args) {\n",
    "        String originalString = \"abc\";\n",
    "        int indexToChange = 0; // Index of the character to change\n",
    "        \n",
    "        if (indexToChange < 0 || indexToChange >= originalString.length()) {\n",
    "            System.out.println(\"Index is out of range\");\n",
    "            return;\n",
    "        }\n",
    "\n",
    "        // Convert the character at the specified index to uppercase\n",
    "        char newChar = Character.toUpperCase(originalString.charAt(indexToChange));\n",
    "\n",
    "        // Create a new string with the modified character\n",
    "        String modifiedString = originalString.substring(0, indexToChange) + newChar + originalString.substring(indexToChange + 1);\n",
    "        System.out.println(originalString.substring(0, 1));\n",
    "\n",
    "        System.out.println(\"Original String: \" + originalString);\n",
    "        System.out.println(\"Modified String: \" + modifiedString);\n",
    "    }\n",
    "}\n",
    "Main.main(null)"
   ]
  }
 ],
 "metadata": {
  "kernelspec": {
   "display_name": "Java",
   "language": "java",
   "name": "java"
  },
  "language_info": {
   "codemirror_mode": "java",
   "file_extension": ".jshell",
   "mimetype": "text/x-java-source",
   "name": "Java",
   "pygments_lexer": "java",
   "version": "20.0.2+9"
  }
 },
 "nbformat": 4,
 "nbformat_minor": 2
}
